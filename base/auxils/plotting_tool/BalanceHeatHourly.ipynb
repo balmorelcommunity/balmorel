{
 "cells": [
  {
   "cell_type": "markdown",
   "metadata": {},
   "source": [
    "# Import Required Packages"
   ]
  },
  {
   "cell_type": "code",
   "execution_count": 1,
   "metadata": {},
   "outputs": [],
   "source": [
    "# Imports\n",
    "import os\n",
    "import datetime\n",
    "import glob\n",
    "import pandas as pd\n",
    "import numpy as np\n",
    "import matplotlib.pyplot as plt\n",
    "import time\n",
    "import seaborn as sns\n",
    "import plotly.express as px\n",
    "import plotly.graph_objects as go\n",
    "from plotly.subplots import make_subplots"
   ]
  },
  {
   "cell_type": "markdown",
   "metadata": {},
   "source": [
    "# Input data from User"
   ]
  },
  {
   "cell_type": "code",
   "execution_count": 2,
   "metadata": {},
   "outputs": [],
   "source": [
    "#Market analysed: 'Investment','FullYear','DayAhead','Balancing' (choose one or several)\n",
    "markets=['FullYear'] \n",
    "output='BalanceHeatHourly'\n",
    "first_timestep=\"2012-01-02\"\n",
    "#Meaning of SSS and TTT in the data: 'DaysHours','Hours5min','WeeksHours'\n",
    "meaning_SSS_TTT='DaysHours'\n",
    "#Time size of each time step in TTT for creating timestamp\n",
    "size_timestep=\"3600s\"\n"
   ]
  },
  {
   "cell_type": "markdown",
   "metadata": {},
   "source": [
    "# Plot Settings"
   ]
  },
  {
   "cell_type": "code",
   "execution_count": 3,
   "metadata": {},
   "outputs": [],
   "source": [
    "# Set plotting specifications\n",
    "%matplotlib inline\n",
    "plt.rcParams.update({'font.size': 21})\n",
    "plt.rcParams['xtick.major.pad']='12'\n",
    "plt.rc('legend', fontsize=16)\n",
    "y_limit = 1.1\n",
    "lw = 3"
   ]
  },
  {
   "cell_type": "markdown",
   "metadata": {},
   "source": [
    "# Read Input Files"
   ]
  },
  {
   "cell_type": "code",
   "execution_count": 4,
   "metadata": {},
   "outputs": [
    {
     "name": "stderr",
     "output_type": "stream",
     "text": [
      "C:\\Users\\s151529\\AppData\\Local\\Continuum\\anaconda3\\lib\\site-packages\\IPython\\core\\interactiveshell.py:3020: DtypeWarning:\n",
      "\n",
      "Columns (8) have mixed types. Specify dtype option on import or set low_memory=False.\n",
      "\n"
     ]
    }
   ],
   "source": [
    "data=pd.DataFrame()\n",
    "for market in markets:\n",
    "    csvfiles = []\n",
    "    for file in glob.glob(\"./input/results/\" + market + \"/*.csv\"):\n",
    "        csvfiles.append(file)\n",
    "\n",
    "    csvfiles=[file.replace('./input\\\\','') for file in csvfiles] \n",
    "    csvfiles=[file.replace('.csv','') for file in csvfiles]  \n",
    "    csvfiles=[file.split('_') for file in csvfiles]  \n",
    "    csvfiles = np.asarray(csvfiles)  \n",
    "    csvfiles=pd.DataFrame.from_records(csvfiles)\n",
    "    \n",
    "    csvfiles.rename(columns={0: 'Output', 1: 'Scenario',2: 'Year',3:'Subset'}, inplace=True)\n",
    "    scenarios=csvfiles.Scenario.unique().tolist()\n",
    "    years=csvfiles.Year.unique().tolist()\n",
    "    subsets=csvfiles.Subset.unique().tolist()\n",
    "\n",
    "    for scenario in scenarios:\n",
    "        for year in years:\n",
    "            for subset in subsets:\n",
    "                file = \"./input/results/\"+ market + \"/\"+ output + \"_\" + scenario + \"_\" + year + \"_\" + subset + \".csv\"\n",
    "                if os.path.isfile(file):\n",
    "                    df=pd.read_csv(file,encoding='utf8')\n",
    "                    df['Scenario'] = scenario\n",
    "                    df['Market']   = market\n",
    "                    #Renaming columns just in case timeconversion was required\n",
    "                    df.rename(columns = {'G':'GGG', 'C':'CCC', 'Y':'YYY','TTT_NEW':'TTT','SSS_NEW':'SSS'}, inplace = True) \n",
    "                    data=data.append(df) \n",
    "\n",
    "                \n",
    "                "
   ]
  },
  {
   "cell_type": "code",
   "execution_count": 5,
   "metadata": {
    "scrolled": true
   },
   "outputs": [
    {
     "name": "stderr",
     "output_type": "stream",
     "text": [
      "C:\\Users\\s151529\\AppData\\Local\\Continuum\\anaconda3\\lib\\site-packages\\ipykernel_launcher.py:3: UserWarning:\n",
      "\n",
      "Pandas doesn't allow columns to be created via a new attribute name - see https://pandas.pydata.org/pandas-docs/stable/indexing.html#attribute-access\n",
      "\n"
     ]
    }
   ],
   "source": [
    "#Timestamp addition\n",
    "full_timesteps = pd.read_csv('./input/full_timesteps_'+meaning_SSS_TTT+'.csv')\n",
    "full_timesteps.Key=full_timesteps['SSS']+full_timesteps['TTT']\n",
    "number_periods=len(full_timesteps.Key.unique())\n",
    "full_timesteps['timestamp']= pd.date_range(first_timestep, periods = number_periods, freq =size_timestep)\n",
    "dict_timestamp=dict(zip(full_timesteps.Key, full_timesteps.timestamp))\n",
    "data['timestamp']=data['SSS']+data['TTT']\n",
    "data['timestamp']=data['timestamp'].map(dict_timestamp)\n",
    "\n"
   ]
  },
  {
   "cell_type": "code",
   "execution_count": 6,
   "metadata": {
    "scrolled": true
   },
   "outputs": [],
   "source": [
    "#Additional set declaration\n",
    "ccc = list(data.CCC.unique())\n",
    "rrr = list(data.RRR.unique())\n",
    "aaa = list(data.AAA.unique())\n",
    "heatbaltype = list(data.H_BAL_TYPE.unique())\n",
    "yyy = list(data.YYY.unique())\n",
    "sss = list(full_timesteps.SSS.unique())\n",
    "ttt = list(full_timesteps.TTT.unique())\n"
   ]
  },
  {
   "cell_type": "code",
   "execution_count": 42,
   "metadata": {},
   "outputs": [
    {
     "data": {
      "text/plain": [
       "['CHP-BACK-PRESSURE',\n",
       " 'BOILERS',\n",
       " 'NETEXPORT',\n",
       " 'PRICE',\n",
       " 'DEMAND_EXO',\n",
       " 'DEMAND_INTERSTO',\n",
       " 'INTER-STO',\n",
       " 'P2H',\n",
       " 'DEMAND_INTRASTO',\n",
       " 'INTRA-STO',\n",
       " 'CHP-EXTRACTION',\n",
       " 'SOLAR-HEATING',\n",
       " 'CURTAILMENT',\n",
       " 'DEMAND_P2G']"
      ]
     },
     "execution_count": 42,
     "metadata": {},
     "output_type": "execute_result"
    }
   ],
   "source": [
    "heatbaltype"
   ]
  },
  {
   "cell_type": "code",
   "execution_count": 8,
   "metadata": {},
   "outputs": [],
   "source": [
    "#Replace possible \"Eps\" with 0\n",
    "data.Val=data.Val.replace('Eps', 0)\n",
    "data.Val=pd.to_numeric(data.Val)"
   ]
  },
  {
   "cell_type": "markdown",
   "metadata": {},
   "source": [
    "# Make output directories\n"
   ]
  },
  {
   "cell_type": "code",
   "execution_count": 9,
   "metadata": {},
   "outputs": [],
   "source": [
    "# Make output folder\n",
    "if not os.path.isdir('output'):\n",
    "    os.makedirs('output')"
   ]
  },
  {
   "cell_type": "code",
   "execution_count": 10,
   "metadata": {},
   "outputs": [],
   "source": [
    "# Make output folder\n",
    "if not os.path.isdir('output/' + output):\n",
    "    os.makedirs('output/' + output)"
   ]
  },
  {
   "cell_type": "markdown",
   "metadata": {},
   "source": [
    "# Plot filter selection (user selection)"
   ]
  },
  {
   "cell_type": "code",
   "execution_count": 11,
   "metadata": {},
   "outputs": [],
   "source": [
    "# Scenario to investigate\n",
    "#All scenarios\n",
    "scenario = scenarios\n",
    "# Or select scenarios by names \n",
    "#scenario_names = ['NoSectorCoupling']\n",
    "#scenario = scenario_names"
   ]
  },
  {
   "cell_type": "code",
   "execution_count": 12,
   "metadata": {},
   "outputs": [],
   "source": [
    "# Market to investigate\n",
    "#All markets\n",
    "market = markets\n",
    "# Or select market by names \n",
    "#market_names = ['DayAhead']\n",
    "#market = market_names"
   ]
  },
  {
   "cell_type": "code",
   "execution_count": 13,
   "metadata": {},
   "outputs": [],
   "source": [
    "# Areas to investigate\n",
    "#All areas\n",
    "a = aaa\n",
    "# Or select areas by names \n",
    "#area_names = ['FR_IND-HT-NODH']\n",
    "#a = area_names"
   ]
  },
  {
   "cell_type": "code",
   "execution_count": 14,
   "metadata": {},
   "outputs": [],
   "source": [
    "# Years to investigate\n",
    "#All years\n",
    "y = yyy\n",
    "# Or select yyy by names \n",
    "#year_names = ['2045']\n",
    "#y = year_names"
   ]
  },
  {
   "cell_type": "code",
   "execution_count": 15,
   "metadata": {},
   "outputs": [],
   "source": [
    "# Seasons to investigate\n",
    "#All seasons\n",
    "s = sss\n",
    "# Or select seasons by names \n",
    "#season_names = ['S001', 'S002', 'S003', 'S004', 'S005', 'S006', 'S007']\n",
    "#s = season_names"
   ]
  },
  {
   "cell_type": "code",
   "execution_count": 16,
   "metadata": {},
   "outputs": [],
   "source": [
    "# Terms to investigate\n",
    "#All terms\n",
    "t = ttt\n",
    "# Or select terms by names \n",
    "# term_names = ['T001', 'S007', 'S020', 'S024', 'S028', 'S038', 'S042', 'S043']\n",
    "# t = term_names"
   ]
  },
  {
   "cell_type": "code",
   "execution_count": 17,
   "metadata": {},
   "outputs": [],
   "source": [
    "data_plot=data[(data.SSS.isin(s)) & (data.TTT.isin(t)) & (data.YYY.isin(y)) & (data.AAA.isin(a)) \n",
    "               & (data.Scenario.isin(scenario)) & (data.Market.isin(market))]"
   ]
  },
  {
   "cell_type": "markdown",
   "metadata": {},
   "source": [
    "# Plotting"
   ]
  },
  {
   "cell_type": "code",
   "execution_count": 30,
   "metadata": {},
   "outputs": [],
   "source": [
    "table = pd.pivot_table(data_plot, values='Val', index=['Scenario','YYY','Market','timestamp'],\n",
    "...                     columns=['H_BAL_TYPE'], aggfunc=np.sum, fill_value=0).reset_index()"
   ]
  },
  {
   "cell_type": "code",
   "execution_count": 31,
   "metadata": {},
   "outputs": [],
   "source": [
    "table_names=list(table.columns.values)"
   ]
  },
  {
   "cell_type": "code",
   "execution_count": 32,
   "metadata": {},
   "outputs": [],
   "source": [
    "table.timestamp=table.timestamp.astype('datetime64[ns]')\n",
    "table.sort_values(by='timestamp',inplace=True)"
   ]
  },
  {
   "cell_type": "code",
   "execution_count": 33,
   "metadata": {},
   "outputs": [],
   "source": [
    "##Combining columns (user specification)\n",
    "#CHP\n",
    "if 'CHP-EXTRACTION' not in table_names:\n",
    "    table['CHP-EXTRACTION']=0 \n",
    "if 'CHP-BACK-PRESSURE' not in table_names:\n",
    "    table['CHP-BACK-PRESSURE']=0 \n",
    "table['CHP']=table['CHP-BACK-PRESSURE']+table['CHP-EXTRACTION']\n",
    "del table['CHP-BACK-PRESSURE']\n",
    "del table['CHP-EXTRACTION'] \n",
    "\n",
    "\n",
    "#STORAGE PRODUCTION\n",
    "if 'INTRA-STO' not in table_names:\n",
    "    table['INTRA-STO']=0 \n",
    "if 'INTER-STO' not in table_names:\n",
    "    table['INTER-STO']=0 \n",
    "table['H-STO']=table['INTRA-STO']+table['INTER-STO']\n",
    "del table['INTER-STO']\n",
    "del table['INTRA-STO']\n",
    "\n",
    "#STORAGE DEMAND\n",
    "if 'DEMAND_INTERSTO' not in table_names:\n",
    "    table['DEMAND_INTERSTO']=0 \n",
    "if 'DEMAND_INTRASTO' not in table_names:\n",
    "    table['DEMAND_INTRASTO']=0 \n",
    "table['DEMAND_STO']=table['DEMAND_INTERSTO']+table['DEMAND_INTRASTO']\n",
    "del table['DEMAND_INTERSTO']\n",
    "del table['DEMAND_INTRASTO']\n",
    "\n",
    "table_names=list(table.columns.values)"
   ]
  },
  {
   "cell_type": "code",
   "execution_count": 34,
   "metadata": {},
   "outputs": [],
   "source": [
    "all_pro=['BOILERS','CHP-BACK-PRESSURE', 'CHP-EXTRACTION', 'INTRA-STO', 'INTER-STO','P2H','H-STO','CHP','SOLAR-HEATING','FUELCELL']\n",
    "prod_list=list(set(table_names).intersection(all_pro))\n",
    "all_dem=['DEMAND_EXO','DEMAND_INTERSTO','DEMAND_INTRASTO','DEMAND_STO','DEMAND_P2G','DEMAND_DISTLOSSES']\n",
    "dem_list=list(set(table_names).intersection(all_dem))"
   ]
  },
  {
   "cell_type": "code",
   "execution_count": 35,
   "metadata": {},
   "outputs": [],
   "source": [
    "x=np.array(table.timestamp)"
   ]
  },
  {
   "cell_type": "code",
   "execution_count": 36,
   "metadata": {},
   "outputs": [],
   "source": [
    "title_subplots=[]\n",
    "name_subplots=[]\n",
    "for mark in market:\n",
    "    for sce in scenarios:\n",
    "        for year in y:\n",
    "            title_subplots.append(mark + ' ' + sce + ' ' + str(year))\n",
    "            name_subplots.append(mark + sce + str(year))"
   ]
  },
  {
   "cell_type": "code",
   "execution_count": 37,
   "metadata": {},
   "outputs": [],
   "source": [
    "plot_spec=[]\n",
    "for mark in market:\n",
    "    for sce in scenarios:\n",
    "        for year in y:\n",
    "            plot_spec.append([dict({\"secondary_y\": True})])"
   ]
  },
  {
   "cell_type": "markdown",
   "metadata": {},
   "source": [
    "##  Heat balance"
   ]
  },
  {
   "cell_type": "code",
   "execution_count": 1,
   "metadata": {
    "scrolled": false
   },
   "outputs": [
    {
     "ename": "NameError",
     "evalue": "name 'make_subplots' is not defined",
     "output_type": "error",
     "traceback": [
      "\u001b[1;31m---------------------------------------------------------------------------\u001b[0m",
      "\u001b[1;31mNameError\u001b[0m                                 Traceback (most recent call last)",
      "\u001b[1;32m<ipython-input-1-80b0b6f7e22b>\u001b[0m in \u001b[0;36m<module>\u001b[1;34m\u001b[0m\n\u001b[1;32m----> 1\u001b[1;33m \u001b[0mfig\u001b[0m \u001b[1;33m=\u001b[0m \u001b[0mmake_subplots\u001b[0m\u001b[1;33m(\u001b[0m\u001b[0mrows\u001b[0m\u001b[1;33m=\u001b[0m\u001b[0mlen\u001b[0m\u001b[1;33m(\u001b[0m\u001b[0mscenario\u001b[0m\u001b[1;33m)\u001b[0m\u001b[1;33m*\u001b[0m\u001b[0mlen\u001b[0m\u001b[1;33m(\u001b[0m\u001b[0my\u001b[0m\u001b[1;33m)\u001b[0m\u001b[1;33m*\u001b[0m\u001b[0mlen\u001b[0m\u001b[1;33m(\u001b[0m\u001b[0mmarket\u001b[0m\u001b[1;33m)\u001b[0m\u001b[1;33m,\u001b[0m \u001b[0mcols\u001b[0m\u001b[1;33m=\u001b[0m\u001b[1;36m1\u001b[0m\u001b[1;33m,\u001b[0m\u001b[0msubplot_titles\u001b[0m\u001b[1;33m=\u001b[0m\u001b[0mtitle_subplots\u001b[0m\u001b[1;33m,\u001b[0m\u001b[0mspecs\u001b[0m\u001b[1;33m=\u001b[0m\u001b[0mplot_spec\u001b[0m\u001b[1;33m,\u001b[0m \u001b[0mvertical_spacing\u001b[0m \u001b[1;33m=\u001b[0m \u001b[1;36m0.05\u001b[0m\u001b[1;33m)\u001b[0m\u001b[1;33m\u001b[0m\u001b[1;33m\u001b[0m\u001b[0m\n\u001b[0m\u001b[0;32m      2\u001b[0m \u001b[1;32mfor\u001b[0m \u001b[0mmark\u001b[0m \u001b[1;32min\u001b[0m \u001b[0mmarket\u001b[0m\u001b[1;33m:\u001b[0m\u001b[1;33m\u001b[0m\u001b[1;33m\u001b[0m\u001b[0m\n\u001b[0;32m      3\u001b[0m     \u001b[1;32mfor\u001b[0m \u001b[0msce\u001b[0m \u001b[1;32min\u001b[0m \u001b[0mscenario\u001b[0m\u001b[1;33m:\u001b[0m\u001b[1;33m\u001b[0m\u001b[1;33m\u001b[0m\u001b[0m\n\u001b[0;32m      4\u001b[0m         \u001b[1;32mfor\u001b[0m \u001b[0myear\u001b[0m \u001b[1;32min\u001b[0m \u001b[0my\u001b[0m\u001b[1;33m:\u001b[0m\u001b[1;33m\u001b[0m\u001b[1;33m\u001b[0m\u001b[0m\n\u001b[0;32m      5\u001b[0m             \u001b[1;31m#Production\u001b[0m\u001b[1;33m\u001b[0m\u001b[1;33m\u001b[0m\u001b[1;33m\u001b[0m\u001b[0m\n",
      "\u001b[1;31mNameError\u001b[0m: name 'make_subplots' is not defined"
     ]
    }
   ],
   "source": [
    "fig = make_subplots(rows=len(scenario)*len(y)*len(market), cols=1,subplot_titles=title_subplots,specs=plot_spec, vertical_spacing = 0.05)\n",
    "for mark in market:\n",
    "    for sce in scenario:\n",
    "        for year in y:\n",
    "            #Production\n",
    "            for i in prod_list:\n",
    "                fig.add_trace(go.Scatter(x=table.loc[(table['Scenario'] == sce) & (table['Market'] == mark) & (table['YYY'] == year)].timestamp, y=table.loc[(table['Scenario'] == sce) & (table['Market'] == mark) & (table['YYY'] == year)][i], stackgroup='one', fill='tozeroy',name=i),\n",
    "                             row=name_subplots.index(mark+sce+str(year))+1, col=1)\n",
    "            for i in dem_list:\n",
    "            #Demand \n",
    "                fig.add_trace(go.Scatter(x=table.loc[(table['Scenario'] == sce) & (table['Market'] == mark) & (table['YYY'] == year)].timestamp, y=table.loc[(table['Scenario'] == sce) & (table['Market'] == mark) & (table['YYY'] == year)][i],name=i), \n",
    "                              row=name_subplots.index(mark+sce+str(year))+1, col=1) \n",
    "            #Price\n",
    "            fig.add_trace(\n",
    "            go.Scatter(x=table.loc[(table['Scenario'] == sce) & (table['Market'] == mark) & (table['YYY'] == year)].timestamp, y=table.loc[(table['Scenario'] == sce) & (table['Market'] == mark) & (table['YYY'] == year)]['PRICE'], name=\"Price\"),\n",
    "            secondary_y=True,row=name_subplots.index(mark+sce+str(year))+1, col=1)  \n",
    "fig.update_layout(title=\"Heat balance\") \n",
    "fig.update_yaxes(title_text=\"Heat (MWh/h)\", secondary_y=False)\n",
    "fig.update_yaxes(title_text=\"Price (€/MWh)\", secondary_y=True)\n",
    "fig.update_layout(legend_orientation=\"h\",width=1000,height=1500)\n",
    "fig.show()"
   ]
  },
  {
   "cell_type": "markdown",
   "metadata": {},
   "source": [
    "## Heat production"
   ]
  },
  {
   "cell_type": "code",
   "execution_count": 2,
   "metadata": {
    "scrolled": false
   },
   "outputs": [
    {
     "ename": "NameError",
     "evalue": "name 'make_subplots' is not defined",
     "output_type": "error",
     "traceback": [
      "\u001b[1;31m---------------------------------------------------------------------------\u001b[0m",
      "\u001b[1;31mNameError\u001b[0m                                 Traceback (most recent call last)",
      "\u001b[1;32m<ipython-input-2-76ea9b93299c>\u001b[0m in \u001b[0;36m<module>\u001b[1;34m\u001b[0m\n\u001b[1;32m----> 1\u001b[1;33m \u001b[0mfig\u001b[0m \u001b[1;33m=\u001b[0m \u001b[0mmake_subplots\u001b[0m\u001b[1;33m(\u001b[0m\u001b[0mrows\u001b[0m\u001b[1;33m=\u001b[0m\u001b[0mlen\u001b[0m\u001b[1;33m(\u001b[0m\u001b[0mscenario\u001b[0m\u001b[1;33m)\u001b[0m\u001b[1;33m*\u001b[0m\u001b[0mlen\u001b[0m\u001b[1;33m(\u001b[0m\u001b[0my\u001b[0m\u001b[1;33m)\u001b[0m\u001b[1;33m*\u001b[0m\u001b[0mlen\u001b[0m\u001b[1;33m(\u001b[0m\u001b[0mmarket\u001b[0m\u001b[1;33m)\u001b[0m\u001b[1;33m,\u001b[0m \u001b[0mcols\u001b[0m\u001b[1;33m=\u001b[0m\u001b[1;36m1\u001b[0m\u001b[1;33m,\u001b[0m\u001b[0msubplot_titles\u001b[0m\u001b[1;33m=\u001b[0m\u001b[0mtitle_subplots\u001b[0m\u001b[1;33m,\u001b[0m \u001b[0mvertical_spacing\u001b[0m \u001b[1;33m=\u001b[0m \u001b[1;36m0.05\u001b[0m\u001b[1;33m)\u001b[0m\u001b[1;33m\u001b[0m\u001b[1;33m\u001b[0m\u001b[0m\n\u001b[0m\u001b[0;32m      2\u001b[0m \u001b[1;32mfor\u001b[0m \u001b[0mmark\u001b[0m \u001b[1;32min\u001b[0m \u001b[0mmarket\u001b[0m\u001b[1;33m:\u001b[0m\u001b[1;33m\u001b[0m\u001b[1;33m\u001b[0m\u001b[0m\n\u001b[0;32m      3\u001b[0m     \u001b[1;32mfor\u001b[0m \u001b[0msce\u001b[0m \u001b[1;32min\u001b[0m \u001b[0mscenario\u001b[0m\u001b[1;33m:\u001b[0m\u001b[1;33m\u001b[0m\u001b[1;33m\u001b[0m\u001b[0m\n\u001b[0;32m      4\u001b[0m         \u001b[1;32mfor\u001b[0m \u001b[0myear\u001b[0m \u001b[1;32min\u001b[0m \u001b[0my\u001b[0m\u001b[1;33m:\u001b[0m\u001b[1;33m\u001b[0m\u001b[1;33m\u001b[0m\u001b[0m\n\u001b[0;32m      5\u001b[0m             \u001b[1;31m#Production\u001b[0m\u001b[1;33m\u001b[0m\u001b[1;33m\u001b[0m\u001b[1;33m\u001b[0m\u001b[0m\n",
      "\u001b[1;31mNameError\u001b[0m: name 'make_subplots' is not defined"
     ]
    }
   ],
   "source": [
    "fig = make_subplots(rows=len(scenario)*len(y)*len(market), cols=1,subplot_titles=title_subplots, vertical_spacing = 0.05)\n",
    "for mark in market:\n",
    "    for sce in scenario:\n",
    "        for year in y:\n",
    "            #Production\n",
    "            for i in prod_list:\n",
    "                fig.add_trace(go.Scatter(x=table.loc[(table['Scenario'] == sce) & (table['Market'] == mark) & (table['YYY'] == year)].timestamp, y=table.loc[(table['Scenario'] == sce) & (table['Market'] == mark) & (table['YYY'] == year)][i],name=i),\n",
    "                             row=name_subplots.index(mark+sce+str(year))+1, col=1)\n",
    "fig.update_layout(\n",
    "    title=\"Heat production\",\n",
    ")  \n",
    "fig.update_yaxes(title_text=\"Energy (MWh/h)\", secondary_y=False)\n",
    "fig.update_layout(legend_orientation=\"h\",width=1000,height=1500)\n",
    "fig.show()\n"
   ]
  },
  {
   "cell_type": "markdown",
   "metadata": {},
   "source": [
    "## Heat demand"
   ]
  },
  {
   "cell_type": "code",
   "execution_count": 3,
   "metadata": {
    "scrolled": false
   },
   "outputs": [
    {
     "ename": "NameError",
     "evalue": "name 'make_subplots' is not defined",
     "output_type": "error",
     "traceback": [
      "\u001b[1;31m---------------------------------------------------------------------------\u001b[0m",
      "\u001b[1;31mNameError\u001b[0m                                 Traceback (most recent call last)",
      "\u001b[1;32m<ipython-input-3-572d7106d80b>\u001b[0m in \u001b[0;36m<module>\u001b[1;34m\u001b[0m\n\u001b[1;32m----> 1\u001b[1;33m \u001b[0mfig\u001b[0m \u001b[1;33m=\u001b[0m \u001b[0mmake_subplots\u001b[0m\u001b[1;33m(\u001b[0m\u001b[0mrows\u001b[0m\u001b[1;33m=\u001b[0m\u001b[0mlen\u001b[0m\u001b[1;33m(\u001b[0m\u001b[0mscenario\u001b[0m\u001b[1;33m)\u001b[0m\u001b[1;33m*\u001b[0m\u001b[0mlen\u001b[0m\u001b[1;33m(\u001b[0m\u001b[0my\u001b[0m\u001b[1;33m)\u001b[0m\u001b[1;33m*\u001b[0m\u001b[0mlen\u001b[0m\u001b[1;33m(\u001b[0m\u001b[0mmarket\u001b[0m\u001b[1;33m)\u001b[0m\u001b[1;33m,\u001b[0m \u001b[0mcols\u001b[0m\u001b[1;33m=\u001b[0m\u001b[1;36m1\u001b[0m\u001b[1;33m,\u001b[0m\u001b[0msubplot_titles\u001b[0m\u001b[1;33m=\u001b[0m\u001b[0mtitle_subplots\u001b[0m\u001b[1;33m,\u001b[0m \u001b[0mvertical_spacing\u001b[0m \u001b[1;33m=\u001b[0m \u001b[1;36m0.05\u001b[0m\u001b[1;33m)\u001b[0m\u001b[1;33m\u001b[0m\u001b[1;33m\u001b[0m\u001b[0m\n\u001b[0m\u001b[0;32m      2\u001b[0m \u001b[1;31m#Demand df\u001b[0m\u001b[1;33m\u001b[0m\u001b[1;33m\u001b[0m\u001b[1;33m\u001b[0m\u001b[0m\n\u001b[0;32m      3\u001b[0m \u001b[1;32mfor\u001b[0m \u001b[0mmark\u001b[0m \u001b[1;32min\u001b[0m \u001b[0mmarket\u001b[0m\u001b[1;33m:\u001b[0m\u001b[1;33m\u001b[0m\u001b[1;33m\u001b[0m\u001b[0m\n\u001b[0;32m      4\u001b[0m     \u001b[1;32mfor\u001b[0m \u001b[0msce\u001b[0m \u001b[1;32min\u001b[0m \u001b[0mscenario\u001b[0m\u001b[1;33m:\u001b[0m\u001b[1;33m\u001b[0m\u001b[1;33m\u001b[0m\u001b[0m\n\u001b[0;32m      5\u001b[0m         \u001b[1;32mfor\u001b[0m \u001b[0myear\u001b[0m \u001b[1;32min\u001b[0m \u001b[0my\u001b[0m\u001b[1;33m:\u001b[0m\u001b[1;33m\u001b[0m\u001b[1;33m\u001b[0m\u001b[0m\n",
      "\u001b[1;31mNameError\u001b[0m: name 'make_subplots' is not defined"
     ]
    }
   ],
   "source": [
    "fig = make_subplots(rows=len(scenario)*len(y)*len(market), cols=1,subplot_titles=title_subplots, vertical_spacing = 0.05)\n",
    "#Demand df\n",
    "for mark in market:\n",
    "    for sce in scenario:\n",
    "        for year in y:\n",
    "            for i in dem_list:\n",
    "                fig.add_trace(go.Scatter(x=table.loc[(table['Scenario'] == sce) & (table['Market'] == mark) & (table['YYY'] == year)].timestamp, y=table.loc[(table['Scenario'] == sce) & (table['Market'] == mark) & (table['YYY'] == year)][i],name=i), \n",
    "                              row=name_subplots.index(mark+sce+str(year))+1, col=1) # fill down to xaxis\n",
    "                fig.update_layout(\n",
    "                    title=\"Heat demand\",\n",
    "                )\n",
    "fig.update_yaxes(title_text=\"Energy (MWh/h)\", secondary_y=False)\n",
    "fig.update_layout(legend_orientation=\"h\",width=1000,height=1500)\n",
    "fig.show()"
   ]
  },
  {
   "cell_type": "code",
   "execution_count": 41,
   "metadata": {},
   "outputs": [],
   "source": [
    "#Not dynamic plot\n",
    "\n",
    "#pal=sns.color_palette(\"Set2\")\n",
    "#plt.figure(figsize=(21,7))\n",
    "#plt.stackplot(x,prod, labels=pro_label,colors=pal)\n",
    "#plt.legend(loc='lower left',bbox_to_anchor=(0.05, -0.35), fancybox=True, shadow=True, ncol=6,fontsize=12)\n",
    "#plt.title('Energy balance',fontsize=16)\n",
    "#plt.ylabel('Energy (MWh/h)',fontsize=16)\n",
    "#plt.xticks(rotation=90,fontsize=14)\n",
    "#plt.yticks(fontsize=14)\n",
    "#for i in dem_list:\n",
    "#    plt.plot(x,table[i])\n",
    "#plt.legend(loc='lower left',bbox_to_anchor=(0.05, -0.35),fancybox=True, shadow=True, ncol=6,fontsize=12)\n",
    "#plt.twinx()\n",
    "#plt.plot(x,table['PRICE'], ':k')\n",
    "#plt.ylabel('Price (€/MWh)',fontsize=16)\n",
    "#plt.yticks(fontsize=14)\n",
    "#plt.legend(loc='lower right',bbox_to_anchor=(0.95, -0.35),fancybox=True, shadow=True, fontsize=12)\n",
    "#plt.margins(x=0)\n",
    "#plt.savefig('Balance.png', bbox_inches='tight', dpi=1000)\n",
    "#plt.show()"
   ]
  },
  {
   "cell_type": "code",
   "execution_count": null,
   "metadata": {},
   "outputs": [],
   "source": []
  },
  {
   "cell_type": "code",
   "execution_count": null,
   "metadata": {},
   "outputs": [],
   "source": []
  },
  {
   "cell_type": "code",
   "execution_count": null,
   "metadata": {},
   "outputs": [],
   "source": []
  },
  {
   "cell_type": "code",
   "execution_count": null,
   "metadata": {},
   "outputs": [],
   "source": []
  },
  {
   "cell_type": "code",
   "execution_count": null,
   "metadata": {},
   "outputs": [],
   "source": []
  }
 ],
 "metadata": {
  "kernelspec": {
   "display_name": "Python 3",
   "language": "python",
   "name": "python3"
  },
  "language_info": {
   "codemirror_mode": {
    "name": "ipython",
    "version": 3
   },
   "file_extension": ".py",
   "mimetype": "text/x-python",
   "name": "python",
   "nbconvert_exporter": "python",
   "pygments_lexer": "ipython3",
   "version": "3.7.1"
  }
 },
 "nbformat": 4,
 "nbformat_minor": 2
}
