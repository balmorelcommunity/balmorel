{
 "cells": [
  {
   "cell_type": "markdown",
   "metadata": {},
   "source": [
    "### Import Required Packages"
   ]
  },
  {
   "cell_type": "code",
   "execution_count": null,
   "metadata": {},
   "outputs": [],
   "source": [
    "# Imports\n",
    "import os\n",
    "import datetime\n",
    "import glob\n",
    "import pandas as pd\n",
    "import numpy as np\n",
    "import matplotlib.pyplot as plt\n",
    "import time\n",
    "import plotly.express as px\n",
    "import plotly.graph_objects as go\n",
    "from plotly.subplots import make_subplots\n",
    "from itertools import chain\n",
    "from random import randint #for random colour generation\n",
    "pd.set_option('display.float_format', lambda x: '%.5f' % x)\n",
    "from IPython.display import display, HTML"
   ]
  },
  {
   "cell_type": "markdown",
   "metadata": {},
   "source": [
    "### Input Data From User "
   ]
  },
  {
   "cell_type": "code",
   "execution_count": null,
   "metadata": {},
   "outputs": [],
   "source": [
    "#Market analysed: 'Investment','FullYear','DayAhead','Balancing' (choose one or several)\n",
    "markets=['DayAhead'] \n",
    "input_price = 'PriceElectricityHourly'\n",
    "input_prod = 'ProductionHourly'\n",
    "output = 'WS_correlations'\n",
    "\n",
    "regions = 'all' # Choose list of regions (e.g. ['BE', 'NL', 'DK1'] or 'all' (i.e. all regions that produce on-shore wind) )\n",
    "\n",
    "color = ['#06266F',  '#a64b00', '#006363', '#a66f00']\n",
    "\n",
    "WS_file1 = '2020_REF_WSTimeseries_to_Balmorel'\n",
    "WS_file2 = '2040_REF_WSTimeseries_to_Balmorel'\n",
    "WS_file3 = '2050_LW_WSTimeseries_to_Balmorel'\n",
    "\n",
    "first_timestep=\"2012-01-02\"\n",
    "#Meaning of SSS and TTT in the data: 'DaysHours','Hours5min','WeeksHours'\n",
    "meaning_SSS_TTT='DaysHours'\n",
    "#Time size of each time step in TTT for creating timestamp\n",
    "size_timestep=\"3600s\"\n",
    "\n"
   ]
  },
  {
   "cell_type": "markdown",
   "metadata": {},
   "source": [
    "### Plot Settings"
   ]
  },
  {
   "cell_type": "code",
   "execution_count": null,
   "metadata": {},
   "outputs": [],
   "source": [
    "# Set plotting specifications\n",
    "%matplotlib inline\n",
    "plt.rcParams.update({'font.size': 21})\n",
    "plt.rcParams['xtick.major.pad']='12'\n",
    "plt.rc('legend', fontsize=16)\n",
    "y_limit = 1.1\n",
    "lw = 3"
   ]
  },
  {
   "cell_type": "markdown",
   "metadata": {},
   "source": [
    "# Read Input Files"
   ]
  },
  {
   "cell_type": "markdown",
   "metadata": {},
   "source": [
    "#### Price and Wind Production"
   ]
  },
  {
   "cell_type": "code",
   "execution_count": null,
   "metadata": {},
   "outputs": [],
   "source": [
    "data=pd.DataFrame()\n",
    "price_data=pd.DataFrame()\n",
    "windgen_ons = pd.DataFrame()\n",
    "for market in markets:\n",
    "    csvfiles = []\n",
    "    for file in glob.glob(\"./input/results/\" + market + \"/*.csv\"):\n",
    "        csvfiles.append(file)\n",
    "\n",
    "    csvfiles=[file.replace('./input\\\\','') for file in csvfiles] \n",
    "    csvfiles=[file.replace('.csv','') for file in csvfiles]  \n",
    "    csvfiles=[file.split('_') for file in csvfiles]  \n",
    "    csvfiles = np.asarray(csvfiles)  \n",
    "    csvfiles=pd.DataFrame.from_records(csvfiles)\n",
    "    \n",
    "    csvfiles.rename(columns={0: 'Output', 1: 'Scenario',2: 'Year',3:'Subset'}, inplace=True)\n",
    "    scenarios=csvfiles.Scenario.unique().tolist()\n",
    "    years=csvfiles.Year.unique().tolist()\n",
    "    subsets=csvfiles.Subset.unique().tolist()\n",
    "\n",
    "    for scenario in scenarios:\n",
    "        for year in years:\n",
    "            for subset in subsets:\n",
    "                price_file = \"./input/results/\"+ market + \"/\" + input_price + \"_\" + scenario + \"_\" + year + \"_\" + subset + \".csv\"\n",
    "                if os.path.isfile(price_file):\n",
    "                    df=pd.read_csv(price_file,encoding='utf8')\n",
    "                    df['Scenario'] = scenario\n",
    "                    df['Market']   = market\n",
    "                    df.rename(columns = {'Val' : 'Price'}, inplace = True)\n",
    "                    price_data=price_data.append(df)\n",
    "                prod_file = \"./input/results/\"+ market + \"/\" + input_prod + \"_\" + scenario + \"_\" + year + \"_\" + subset + \".csv\"\n",
    "                if os.path.isfile(prod_file):\n",
    "                    df=pd.read_csv(prod_file,encoding='utf8')\n",
    "                    df['Scenario'] = scenario\n",
    "                    df['Market']   = market\n",
    "                    windgen_ons=windgen_ons.append(df)\n",
    "windgen_ons = windgen_ons.loc[windgen_ons['TECH_TYPE'] == 'WIND-ON', ]"
   ]
  },
  {
   "cell_type": "markdown",
   "metadata": {},
   "source": [
    "#### Wind Speeds and Region-Area file"
   ]
  },
  {
   "cell_type": "code",
   "execution_count": null,
   "metadata": {},
   "outputs": [],
   "source": [
    "df_ws_2020 = pd.read_csv('./input/' + WS_file1 + '.csv', usecols = lambda col: col not in ['Unnamed: 0'])\n",
    "df_ws_2040 = pd.read_csv('./input/' + WS_file2 + '.csv', usecols = lambda col: col not in ['Unnamed: 0'])\n",
    "df_ws_LW = pd.read_csv('./input/' + WS_file3 + '.csv', usecols = lambda col: col not in ['Unnamed: 0'])\n",
    "windspeeds = pd.concat([df_ws_2020, df_ws_2040, df_ws_LW], axis = 1)\n",
    "\n",
    "RRR_AAA = pd.read_csv('./input/RRRAAA.csv') #Dictionary telling to which region each area belongs"
   ]
  },
  {
   "cell_type": "markdown",
   "metadata": {},
   "source": [
    "# Processing Data Files"
   ]
  },
  {
   "cell_type": "markdown",
   "metadata": {},
   "source": [
    "#### Select Regions"
   ]
  },
  {
   "cell_type": "code",
   "execution_count": null,
   "metadata": {},
   "outputs": [],
   "source": [
    "if regions == 'all':\n",
    "    regions = np.array(windgen_ons.RRR.unique() ) #Creates an array of all regions where electricity is generated by on-shore wind turbines\n",
    "\n",
    "#Price + Production\n",
    "price_data = price_data.loc[price_data['RRR'].isin(regions), ]                    \n",
    "windgen_ons = windgen_ons.loc[windgen_ons['RRR'].isin(regions), ]\n",
    "\n",
    "#Wind Speeds\n",
    "windspeeds = pd.DataFrame(windspeeds.stack()).reset_index()\n",
    "windspeeds.columns = ['hour', 'AAA', 'WS']\n",
    "windspeeds = pd.merge(windspeeds, RRR_AAA, on = 'AAA', left_index = True)\n",
    "windspeeds = windspeeds.loc[windspeeds['RRR'].isin(regions), ]"
   ]
  },
  {
   "cell_type": "markdown",
   "metadata": {},
   "source": [
    "#### Timestamp addition"
   ]
  },
  {
   "cell_type": "code",
   "execution_count": null,
   "metadata": {},
   "outputs": [],
   "source": [
    "full_timesteps = pd.read_csv('./input/full_timesteps_'+meaning_SSS_TTT+'.csv')\n",
    "full_timesteps['Key']=full_timesteps['SSS']+full_timesteps['TTT']\n",
    "number_periods=len(full_timesteps.Key.unique())\n",
    "full_timesteps['timestamp']= pd.date_range(first_timestep, periods = number_periods, freq =size_timestep)\n",
    "dict_timestamp=dict(zip(full_timesteps.Key, full_timesteps.timestamp))\n",
    "\n",
    "price_data.loc[:,'timestamp']=price_data.loc[:, 'SSS']+price_data.loc[:,'TTT']\n",
    "price_data.loc[:,'timestamp']=price_data.loc[:,'timestamp'].map(dict_timestamp)\n",
    "windgen_ons.loc[:,'timestamp']=windgen_ons.loc[:,'SSS']+windgen_ons.loc[:,'TTT']\n",
    "windgen_ons.loc[:,'timestamp']=windgen_ons.loc[:,'timestamp'].map(dict_timestamp)\n"
   ]
  },
  {
   "cell_type": "code",
   "execution_count": null,
   "metadata": {},
   "outputs": [],
   "source": [
    "full_timesteps = full_timesteps.reset_index()\n",
    "full_timesteps = full_timesteps.rename(columns = {'index' : 'hour'})\n",
    "windspeeds = pd.merge(windspeeds, full_timesteps[['hour', 'timestamp']], on = 'hour')"
   ]
  },
  {
   "cell_type": "markdown",
   "metadata": {},
   "source": [
    "#### Replace possible \"Eps\" with 0"
   ]
  },
  {
   "cell_type": "code",
   "execution_count": null,
   "metadata": {},
   "outputs": [],
   "source": [
    "windgen_ons = windgen_ons.copy()\n",
    "windgen_ons.Val=windgen_ons.Val.replace('Eps', 0)\n",
    "windgen_ons.Val=pd.to_numeric(windgen_ons.Val)\n",
    "price_data.Price=price_data.Price.replace('Eps', 0)\n",
    "price_data.Price=pd.to_numeric(price_data.Price)"
   ]
  },
  {
   "cell_type": "markdown",
   "metadata": {},
   "source": [
    "#### Change names"
   ]
  },
  {
   "cell_type": "code",
   "execution_count": null,
   "metadata": {},
   "outputs": [],
   "source": [
    "#Only LW wind speed data for 2050 is available: all LW areas get 2050 wind speeds\n",
    "windgen_ons.loc[windgen_ons['AAA'].str.contains('LW') == True, 'AAA'] = windgen_ons['AAA'].str.replace('20-30', '50')\n",
    "windgen_ons.loc[windgen_ons['AAA'].str.contains('LW') == True, 'AAA'] = windgen_ons['AAA'].str.replace('30-40', '50')\n",
    "windgen_ons.loc[windgen_ons['AAA'].str.contains('LW') == True, 'AAA'] = windgen_ons['AAA'].str.replace('40-50', '50')\n",
    "\n",
    "#Only REF wind speed data for 20-30 and 40-50 are available: 30-40 areas get 40-50 wind speeds\n",
    "windgen_ons.loc[windgen_ons['AAA'].str.contains('LW') == False, 'AAA'] = windgen_ons['AAA'].str.replace('30-40', '40-50')\n",
    "\n",
    "#One row for each AAA, for each hour\n",
    "windgen_ons = pd.DataFrame(windgen_ons.groupby(['Y', 'C', 'RRR', 'AAA', 'G', 'timestamp'])['Val'].sum().reset_index())\n",
    "\n",
    "\n",
    "\n",
    "#Create list with areas for which there is WS data\n",
    "WS_areas = windspeeds.AAA.unique()\n",
    "\n",
    "#Change names of areas that are not in WS data\n",
    "forgotten =  windgen_ons.loc[(windgen_ons['AAA'].isin(WS_areas)==False)  & (windgen_ons['G'].str.contains('LW')==False), ]\n",
    "forgotten.loc[forgotten['G'].str.contains('RG1'), 'AAA'] = forgotten.loc[forgotten['G'].str.contains('RG1'), 'RRR'] + '_VRE-ONS_RG1_20-30'\n",
    "forgotten.loc[forgotten['G'].str.contains('RG2'), 'AAA'] = forgotten.loc[forgotten['G'].str.contains('RG2'), 'RRR'] + '_VRE-ONS_RG2_20-30'\n",
    "forgotten.loc[forgotten['G'].str.contains('RG3'), 'AAA'] = forgotten.loc[forgotten['G'].str.contains('RG3'), 'RRR'] + '_VRE-ONS_RG3_20-30'\n",
    "forgotten.loc[(forgotten['G'].str.contains('RG1') == False) & (forgotten['G'].str.contains('RG2') == False) & (forgotten['G'].str.contains('RG3') == False), 'AAA'] = \\\n",
    "forgotten.loc[(forgotten['G'].str.contains('RG1') == False) & (forgotten['G'].str.contains('RG2') == False) & (forgotten['G'].str.contains('RG3') == False), 'RRR'] + '_VRE-ONS_20-30'\n",
    "\n",
    "#Create remaining dataframe\n",
    "windgen_ons = windgen_ons.loc[windgen_ons['AAA'].isin(WS_areas)==True, ]\n",
    "\n",
    "#Merge old and new dataframes\n",
    "windgen_ons = [windgen_ons, forgotten]\n",
    "windgen_ons = pd.concat(windgen_ons)\n",
    "windgen_ons = pd.DataFrame(windgen_ons.groupby(['Y', 'C', 'RRR', 'AAA',  'timestamp'])['Val'].sum().reset_index())"
   ]
  },
  {
   "cell_type": "markdown",
   "metadata": {},
   "source": [
    "#### Merge with wind speeds"
   ]
  },
  {
   "cell_type": "code",
   "execution_count": null,
   "metadata": {},
   "outputs": [],
   "source": [
    "df = pd.merge(windspeeds, windgen_ons[['AAA', 'timestamp', 'Val']], on = ['timestamp', 'AAA'], how = 'left')\n",
    "df = df.loc[df['Val'].isnull()==False,] #Keep only wind turbines that produce (i.e. that exist)\n",
    "df = df[['hour', 'timestamp', 'RRR', 'AAA', 'WS', 'Val']].reset_index(drop = True)"
   ]
  },
  {
   "cell_type": "markdown",
   "metadata": {},
   "source": [
    "## Average WS Calculation "
   ]
  },
  {
   "cell_type": "code",
   "execution_count": null,
   "metadata": {},
   "outputs": [],
   "source": [
    "df['W'] = df['WS'] * df['Val']\n",
    "df_W = pd.DataFrame(df.groupby(['hour', 'timestamp', 'RRR'])['W'].sum().reset_index())\n",
    "df_Val = pd.DataFrame(df.groupby(['hour', 'timestamp', 'RRR'])['Val'].sum().reset_index())\n",
    "\n",
    "df_W['Val'] = df_Val['Val']\n",
    "df_W['WS_avg'] = df_W['W'] / df_Val['Val']\n",
    "\n",
    "#Add price column \n",
    "df_W = pd.merge(df_W, price_data[['timestamp', 'RRR', 'Price']], on = ['timestamp', 'RRR'])\n",
    "\n",
    "#Make timestamp visible for hovering by writing it as string\n",
    "df_W.loc[:, \"timestamp\"] = df_W.loc[:, \"timestamp\"].dt.strftime('%d %h %Y %H:%M')\n",
    "df_scatter = df_W"
   ]
  },
  {
   "cell_type": "markdown",
   "metadata": {},
   "source": [
    "## Region Aggregation"
   ]
  },
  {
   "cell_type": "code",
   "execution_count": null,
   "metadata": {},
   "outputs": [],
   "source": [
    "df_W['W_Price'] = df_W['Price'] * df_W['Val']\n",
    "df_W['W_WS_avg'] = df_W['WS_avg'] * df_W['Val']\n",
    "df_agg =  pd.DataFrame(df_W.groupby(['hour', 'timestamp'])['Val'].sum().reset_index())\n",
    "df_agg['W_price'] = (pd.DataFrame(df_W.groupby(['hour', 'timestamp'])['W_Price'].sum().reset_index()))['W_Price']\n",
    "df_agg['price_agg'] = df_agg['W_price'] / df_agg['Val']\n",
    "df_agg['W_WS_avg'] = (pd.DataFrame(df_W.groupby(['hour', 'timestamp'])['W_WS_avg'].sum().reset_index() ))['W_WS_avg']\n",
    "df_agg['W_WS_avg'] = df_agg['W_WS_avg'] / df_agg['Val']"
   ]
  },
  {
   "cell_type": "markdown",
   "metadata": {},
   "source": [
    "# Making Output Directory"
   ]
  },
  {
   "cell_type": "code",
   "execution_count": null,
   "metadata": {},
   "outputs": [],
   "source": [
    "# Make output folder\n",
    "if not os.path.isdir('output'):\n",
    "    os.makedirs('output')\n",
    "    \n",
    "# Make market folder\n",
    "for market in markets:\n",
    "    if not os.path.isdir('output/' + output + '/'+ market +'/' + scenario +'/' + year):\n",
    "        os.makedirs('output/' + output + '/'+ market +'/' + scenario +'/' + year)"
   ]
  },
  {
   "cell_type": "markdown",
   "metadata": {},
   "source": [
    "# Plotting"
   ]
  },
  {
   "cell_type": "markdown",
   "metadata": {},
   "source": [
    "#### Create colour dictionary\n"
   ]
  },
  {
   "cell_type": "code",
   "execution_count": null,
   "metadata": {},
   "outputs": [],
   "source": [
    "color = len(regions)*color\n",
    "color_dict = dict(zip(regions, color))"
   ]
  },
  {
   "cell_type": "markdown",
   "metadata": {},
   "source": [
    "#### Create plot for aggregated regions"
   ]
  },
  {
   "cell_type": "code",
   "execution_count": null,
   "metadata": {},
   "outputs": [],
   "source": [
    "#Aggregated Plots\n",
    "fig = make_subplots(rows=1, cols=3, subplot_titles = ['Production vs. Wind Speeds', 'Price vs. Wind Speeds', 'Production vs. Price'],shared_xaxes=False,vertical_spacing=0.05)\n",
    "fig.add_trace(\n",
    "            go.Scatter(x=df_agg['W_WS_avg'], y = df_agg['Val'] / 1000, mode = 'markers', marker=dict(color=color[0])),\n",
    "            col=1, row=1\n",
    "        )\n",
    "fig.add_trace(\n",
    "            go.Scatter(x=df_agg['W_WS_avg'], y = df_agg['price_agg'], mode = 'markers', marker=dict(color=color[1])),\n",
    "            col=2, row=1\n",
    "        )\n",
    "fig.add_trace(\n",
    "            go.Scatter(x=df_agg['Val'] / 1000, y = df_agg['price_agg'], mode = 'markers', marker=dict(color=color[2])),\n",
    "            col=3, row=1\n",
    "        )\n",
    "fig.update_xaxes(title_text=\"Average Wind Speed (m/s)\", row=1, col=1)\n",
    "fig.update_yaxes(title_text=\"Aggregated Generation On-shore Wind (GWh)\", row=1, col=1)\n",
    "fig.update_xaxes(title_text=\"Average Wind Speed (m/s)\", row=1, col=2)\n",
    "fig.update_yaxes(title_text=\"Average Electricity Price (€/MWh)\", row=1, col=2)\n",
    "fig.update_xaxes(title_text=\"Average Generation On-shore Wind (GWh)\", row=1, col=3)\n",
    "fig.update_yaxes(title_text=\"Aggregated Electricity Price (€/MWh)\", row=1, col=3)\n",
    "\n",
    "fig.update_layout(title_text = 'Correlations of aggregated regions: ' + scenario + ', ' + year,   showlegend = False)\n",
    "fig.write_html('output/' + output + '/'+ market +'/' + scenario + '/' + year + '/'+ output + '_' + scenario + '_' + year + '_aggregated.html', auto_open = True)\n"
   ]
  },
  {
   "cell_type": "markdown",
   "metadata": {},
   "source": [
    "#### Function to make one plot for each region"
   ]
  },
  {
   "cell_type": "code",
   "execution_count": null,
   "metadata": {},
   "outputs": [],
   "source": [
    "def plot_per_region(display_regions, suffix):\n",
    "    plot_titles = list(chain(*zip(display_regions, display_regions, display_regions) ) )\n",
    "    fig = make_subplots(rows=len(display_regions), cols=3, subplot_titles = plot_titles,shared_xaxes=False,vertical_spacing=0.05)\n",
    "    for country in display_regions:\n",
    "        fig.add_trace(\n",
    "            go.Scatter(name = country + ' ' + scenario + ', ' + year, \\\n",
    "                       x=df_scatter.loc[df_scatter['RRR'] == country, 'WS_avg'], \\\n",
    "                       y=df_scatter.loc[df_scatter['RRR'] == country, 'Val'], \\\n",
    "                       mode = 'markers', marker = dict(color= color_dict[country])),\n",
    "            col=1, row=display_regions.index(country) +1\n",
    "        )\n",
    "        fig.add_trace(\n",
    "            go.Scatter(name = country + ' ' + scenario + ', ' + year, \\\n",
    "                       x=df_scatter.loc[df_scatter['RRR'] == country, 'WS_avg'], \\\n",
    "                       y=df_scatter.loc[df_scatter['RRR'] == country, 'Price'], \\\n",
    "                       mode = 'markers', marker = dict(color= color_dict[country])),\n",
    "            col=2, row=display_regions.index(country) + 1\n",
    "        )\n",
    "        fig.add_trace(\n",
    "            go.Scatter(name = country + ' ' + scenario + ', ' + year, \\\n",
    "                       x=df_scatter.loc[df_scatter['RRR'] == country, 'Val'], \\\n",
    "                       y=df_scatter.loc[df_scatter['RRR'] == country, 'Price'], \\\n",
    "                       mode = 'markers', marker = dict(color= color_dict[country])),\n",
    "            col=3, row=display_regions.index(country) + 1\n",
    "        )\n",
    "\n",
    "    for i in range(0, len(display_regions)):\n",
    "        fig.update_xaxes(title_text=\"Wind Speed (m/s)\", row=i + 1, col=1)\n",
    "        fig.update_yaxes(title_text=\"Generation On-shore Wind (MWh)\", row=i + 1, col=1)\n",
    "    for i in range(len(display_regions)):\n",
    "        fig.update_xaxes(title_text=\"Wind Speed (m/s)\", row=i + 1, col=2)\n",
    "        fig.update_yaxes(title_text=\"Electricity Price (€/MWh)\", row=i + 1, col=2)\n",
    "    for i in range(len(display_regions)):\n",
    "        fig.update_xaxes(title_text=\"Generation On-shore Wind (MWh)\", row=i + 1, col=3)\n",
    "        fig.update_yaxes(title_text=\"Electricity Price (€/MWh)\", row=i + 1, col=3)\n",
    "    fig.update_layout(title_text = 'Wind speed vs. production (left), wind speeds vs. price (middle), production vs. price (right): ' + scenario + ', ' + year, height = 600*len(display_regions),  showlegend = False)\n",
    "\n",
    "\n",
    "    fig.write_html('output/' + output + '/'+ market +'/' + scenario + '/' + year + '/'+ output + '_' + scenario + '_' + year + '_' + suffix + '.html', auto_open = True)    \n"
   ]
  },
  {
   "cell_type": "markdown",
   "metadata": {},
   "source": [
    "#### Create plots per region"
   ]
  },
  {
   "cell_type": "code",
   "execution_count": null,
   "metadata": {},
   "outputs": [],
   "source": [
    "# If more than 8 countries need to be displayed, the html is split up (due to display constraints)\n",
    "regions = list(regions)\n",
    "if len(regions) <= 8:\n",
    "    plot_per_region(regions, 'all')\n",
    "if len(regions) > 8:\n",
    "    regions_a = regions[0:8]\n",
    "    plot_per_region(regions_a, 'a')\n",
    "    regions_b = regions[8:16]\n",
    "    plot_per_region(regions_b, 'b')\n",
    "if len(regions) > 16:\n",
    "    regions_c = regions[16:24]\n",
    "    plot_per_region(regions_c, 'c') \n",
    "if len(regions) > 24:\n",
    "    regions_d = regions[24:32]\n",
    "    plot_per_region(regions_d, 'd') "
   ]
  }
 ],
 "metadata": {
  "kernelspec": {
   "display_name": "Python 3",
   "language": "python",
   "name": "python3"
  },
  "language_info": {
   "codemirror_mode": {
    "name": "ipython",
    "version": 3
   },
   "file_extension": ".py",
   "mimetype": "text/x-python",
   "name": "python",
   "nbconvert_exporter": "python",
   "pygments_lexer": "ipython3",
   "version": "3.8.3"
  }
 },
 "nbformat": 4,
 "nbformat_minor": 4
}
