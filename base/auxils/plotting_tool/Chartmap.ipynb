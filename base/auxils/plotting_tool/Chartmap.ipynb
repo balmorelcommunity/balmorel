{
 "cells": [
  {
   "cell_type": "markdown",
   "metadata": {},
   "source": [
    "# 1 Preparations"
   ]
  },
  {
   "cell_type": "markdown",
   "metadata": {},
   "source": [
    "### 1.1 Set Options"
   ]
  },
  {
   "cell_type": "code",
   "execution_count": null,
   "metadata": {},
   "outputs": [],
   "source": [
    "### Set options here\n",
    "#Structural options\n",
    "input_folder = 'Investment'\n",
    "variable = 'CapacityGeneration_35LWSTALL_inv_full' #To define input file\n",
    "display_column = 'Tech_type_agg'\n",
    "display_variable = 'WIND-ON' #NB: Only relevant for choropleth maps\n",
    "year = 2045 #Year to be displayed\n",
    "scenario = ['all'] #Scenario(s) to be displayed \n",
    "\n",
    "\n",
    "#Visual options\n",
    "hub_display = False\n",
    "region_label = True #Label of region's acronym\n",
    "font_size_region = 10 #Font size of the region display\n",
    "\n",
    "\n",
    "#Colors\n",
    "background_color = 'white'\n",
    "regions_ext_color = 'lightgrey'\n",
    "regions_model_color = 'grey'\n",
    "region_text = 'black'\n",
    "hub_color = 'lightblue'\n",
    "hub_background_color = 'lightblue'\n",
    "hub_text = 'black'\n",
    "choropleth_colorscheme = 'YlGn' #Colour scheme of the choropleth map. Choose from: [BuGn, BuPu, GnBu, OrRd, PuBu, PuBuGn, PuRd, RdPu, YlGn, YlGnBu, YlOrBr, YlOrRd]\n",
    "manual_colors = True #True if colours are added to values manually in csv-file, False if not. \n",
    "\n",
    "#Chart options\n",
    "chart_type = 'bar' #Choose from 'doughnut', 'pie', 'bar', 'choropleth'\n",
    "doughnut_size = 1 #Size of doughnut / pie chart\n",
    "bar_size = 0.8\n",
    "doughnut_location = [40,30] #Distance of bottom-right corner of the chart from the region's coordinates. Higher values shift the chart to the West (first value) and North (second value). \n",
    "bar_location = [30,80] #Distance of bottom-right corner of the chart from the region's coordinates. Higher values shift the chart to the West (first value) and North (second value). \n",
    "choropleth_location = [7,7]\n",
    "title_distance = -40 #Distance between chart title (country label) and chart\n",
    "display_decimals = 1 #Number of decimals in pop-up table or on choropleth map\n",
    "manual_bins = '' #Bins for the choropleth map, e.g. [0,0.5,1,2,5], if no manual bins: ''"
   ]
  },
  {
   "cell_type": "markdown",
   "metadata": {},
   "source": [
    "### 1.2 Import Packages"
   ]
  },
  {
   "cell_type": "code",
   "execution_count": null,
   "metadata": {
    "jupyter": {
     "source_hidden": true
    }
   },
   "outputs": [],
   "source": [
    "from pathlib import Path\n",
    "import sys\n",
    "import os\n",
    "import glob\n",
    "import pandas as pd\n",
    "import numpy as np\n",
    "import geopandas as gpd\n",
    "import folium\n",
    "from folium import plugins\n",
    "import json\n",
    "from folium.features import DivIcon #For text labels on hubs\n",
    "from IPython.display import display, HTML\n",
    "import io\n",
    "import pandas.io.formats.style\n",
    "from csv import reader\n",
    "#for charts\n",
    "import matplotlib.pyplot as plt\n",
    "from matplotlib.pyplot import figure\n",
    "display(HTML(data=\"\"\"\n",
    "<style>\n",
    "    div#notebook-container    { width: 95%; }\n",
    "    div#menubar-container     { width: 65%; }\n",
    "    div#maintoolbar-container { width: 99%; }\n",
    "</style>\n",
    "\"\"\"))"
   ]
  },
  {
   "cell_type": "markdown",
   "metadata": {},
   "source": [
    "### 1.3 Load Files"
   ]
  },
  {
   "cell_type": "code",
   "execution_count": null,
   "metadata": {
    "jupyter": {
     "source_hidden": true
    }
   },
   "outputs": [],
   "source": [
    "#Set file names\n",
    "project_dir = Path('./input')\n",
    "map_name = chart_type + 'Chartmap_' + variable + '_' + display_column + '_'+ str(year) + '.html'\n",
    "\n",
    "variable_file = input_folder + '\\\\' + variable + '.csv'\n",
    "df_var = pd.read_csv(project_dir/'results/'/variable_file)\n",
    "\n",
    "#Load coordinates files \n",
    "df_region = pd.read_csv(project_dir/'geo_files/coordinates_RRR.csv')\n",
    "\n",
    "#Define names of geojson and shapefile layers\n",
    "r_in = list(df_region.loc[(df_region['Display'] == 1) & (df_region['Type'] == 'region'), 'RRR'])\n",
    "r_out = list(df_region.loc[(df_region['Display'] == 0) & (df_region['Type'] == 'region'), 'RRR'])\n",
    "\n",
    "layers_in = {region: '' for region in r_in}\n",
    "layers_out = {region: '' for region in r_out}\n",
    "\n",
    "#Create dictionaries with layer names for each region; \n",
    "    #if both a shapefile and geojson file are available for one region, the geojson file is used. \n",
    "for region in r_in:\n",
    "    layers_in[region] = glob.glob(f'{project_dir}/geo_files/geojson_files/'+ region + '.geojson')\n",
    "    if bool(layers_in[region]) == False:\n",
    "        layers_in[region] = glob.glob(f'{project_dir}/geo_files/shapefiles/'+ region + '.shp')\n",
    "for region in r_out:\n",
    "    layers_out[region] = glob.glob(f'{project_dir}/geo_files/geojson_files/'+ region + '.geojson')\n",
    "    if bool(layers_out[region]) == False:\n",
    "        layers_out[region] = glob.glob(f'{project_dir}/geo_files/shapefiles/'+ region + '.shp')\n",
    "\n",
    "for region in layers_in:\n",
    "    layers_in[region] = str(layers_in[region])[2:-2] #Remove brackets from file names\n",
    "for region in layers_out:\n",
    "    layers_out[region] = str(layers_out[region])[2:-2] #Remove brackets from file names\n",
    "\n",
    "#Create dataframe with only the regions that need to be displayed\n",
    "if hub_display == True:\n",
    "    df_region = df_region.loc[df_region['Display']==1, ]\n",
    "else:\n",
    "    df_region = df_region.loc[(df_region['Type'] == 'region')  & (df_region['Display']==1), ]"
   ]
  },
  {
   "cell_type": "markdown",
   "metadata": {},
   "source": [
    "# 2 Data processing"
   ]
  },
  {
   "cell_type": "markdown",
   "metadata": {},
   "source": [
    "### 2.1 Select relevant year"
   ]
  },
  {
   "cell_type": "code",
   "execution_count": null,
   "metadata": {
    "jupyter": {
     "source_hidden": true
    }
   },
   "outputs": [],
   "source": [
    "#Select only releavant year and scenario\n",
    "df_var = df_var.loc[df_var['Year']==year, ]\n",
    "if 'Scenario' in list(df_var.columns): \n",
    "    df_var = df_var.loc[df_var['Scenario'].isin(scenario), ]\n",
    "unit = df_var.Unit.unique()[0] #Store unit value to display in table on map"
   ]
  },
  {
   "cell_type": "markdown",
   "metadata": {},
   "source": [
    "### 2.2 Create horizontal table with sectors as columns"
   ]
  },
  {
   "cell_type": "code",
   "execution_count": null,
   "metadata": {
    "jupyter": {
     "source_hidden": true
    }
   },
   "outputs": [],
   "source": [
    "# Create horizontal table with sectors as columns\n",
    "df_var = pd.DataFrame(df_var.groupby(['Region', display_column])['Value'].sum().reset_index())\n",
    "df_var = df_var.pivot(index = 'Region', columns = display_column, values = 'Value')\n",
    "\n",
    "#Add coordinates\n",
    "df_region = df_region.rename(columns = {'RRR':'Region'})\n",
    "df_var = pd.merge(df_var, df_region[['Lat', 'Lon', 'Region']], on = ['Region'], how = 'right')\n",
    "df_var = df_var.fillna(0)"
   ]
  },
  {
   "cell_type": "markdown",
   "metadata": {},
   "source": [
    "### 2.3 Create color dictionaries for charts"
   ]
  },
  {
   "cell_type": "code",
   "execution_count": null,
   "metadata": {
    "jupyter": {
     "source_hidden": true
    }
   },
   "outputs": [],
   "source": [
    "if chart_type == 'pie' or chart_type == 'doughnut' or chart_type == 'bar': \n",
    "\n",
    "    insert_keys = ['insert0','insert1', 'insert2', 'insert3', 'insert4', 'insert5', 'insert6', 'insert7', 'insert8', 'insert9', 'insert_ten']\n",
    "    item_keys = ['item0','item1', 'item2', 'item3', 'item4', 'item5', 'item6', 'item7', 'item8', 'item9', 'item_ten']\n",
    "    color_keys = ['color0', 'color1', 'color2', 'color3', 'color4', 'color5', 'color6', 'color7', 'color8', 'color9', \\\n",
    "                  'color_ten', 'color_eleven', 'color_twelve', 'color_thirteen', 'color_fourteen', 'color_fifteen', \\\n",
    "                 'color_sixteen', 'color_seventeen', 'color_eightteen', 'color_nineteen']\n",
    "    textcouleur_keys = ['textcouleur0', 'textcouleur1', 'textcouleur2', 'textcouleur3', 'textcouleur4', 'textcouleur5', 'textcouleur6', 'textcouleur7', 'textcouleur8', 'textcouleur9', 'textcouleurten']\n",
    "\n",
    "    if manual_colors == False:\n",
    "        color_list = ['#e6194b', '#3cb44b', '#ffe119', '#4363d8', '#f58231', '#911eb4', '#46f0f0', '#f032e6', '#bcf60c', \\\n",
    "                      '#fabebe', '#008080', '#e6beff', '#9a6324', '#fffac8', '#800000', '#aaffc3', '#808000', '#ffd8b1', '#000075',\\\n",
    "                      '#808080', '#ffffff', '#000000'] #colors to be used on chartcolor_keys = ['color0', 'color1', 'color2', 'color3', 'color4', 'color5', 'color6', 'color7', 'color8', 'color9', 'color_ten', etc]\n",
    "        color_dict = dict(zip(color_keys, color_list))\n",
    "        textcouleur_list = ['black']*len(color_list)\n",
    "        textcouleur_dict = dict(zip(textcouleur_keys, textcouleur_list))\n",
    "\n",
    "    if manual_colors == True:\n",
    "        df_color = pd.read_csv(project_dir/'geo_files/manual_colors_input.csv')\n",
    "        #Sort dataframe of colors to contain right sequence\n",
    "        lst = list(df_var.columns)[1:-2]\n",
    "        df_color['Value_cat'] = pd.Categorical(df_color['Value'], categories = lst, ordered = True )\n",
    "        df_color = df_color.sort_values('Value_cat')\n",
    "        del df_color['Value_cat']\n",
    "        #Create dictionary\n",
    "        color_list = list(df_color.Color)    \n",
    "        hatch_list = list(df_color.Hatch)\n",
    "        textcouleur_list = list(df_color.Textcolor) \n",
    "        color_dict = dict(zip(color_keys, color_list))\n",
    "        textcouleur_dict = dict(zip(textcouleur_keys, textcouleur_list))\n",
    "\n",
    "    #Check if enough colours are defined \n",
    "    if manual_colors == True:\n",
    "        if len(df_color) != len(list(df_var.columns)[1:-2]):\n",
    "            sys.exit('Warning: the number of pre-defined colors does not match the number of variables. \\n Update the input color sheet or set \"manual_colors\" to False')"
   ]
  },
  {
   "cell_type": "markdown",
   "metadata": {},
   "source": [
    "### 2.4 Prepare list of lists for chart data"
   ]
  },
  {
   "cell_type": "code",
   "execution_count": null,
   "metadata": {
    "jupyter": {
     "source_hidden": true
    }
   },
   "outputs": [],
   "source": [
    "if chart_type == 'pie' or chart_type == 'doughnut' or chart_type == 'bar': \n",
    "    chart_data = list(range(len(df_var)))\n",
    "    for i in range(len(df_var)):\n",
    "        chart_data[i] = list(range(1,len(list(df_var.columns))-2))\n",
    "    for i in range(len(chart_data)):\n",
    "        for j in range(1,len(list(df_var.columns))-2):\n",
    "            chart_data[i][j-1] = df_var.iloc[i,j]"
   ]
  },
  {
   "cell_type": "markdown",
   "metadata": {},
   "source": [
    "### 2.5 Create charts for map"
   ]
  },
  {
   "cell_type": "code",
   "execution_count": null,
   "metadata": {
    "jupyter": {
     "source_hidden": true
    }
   },
   "outputs": [],
   "source": [
    "if chart_type == 'doughnut':\n",
    "    doughnut_pie = 0.5 #Thickness of the inside ring of the doughnut: 1 = pie chart, 0.5 = doughnut chart \n",
    "else:\n",
    "    doughnut_pie = 1\n",
    "\n",
    "if chart_type == 'pie' or chart_type == 'doughnut': \n",
    "    fig = plt.figure(figsize=(doughnut_size, 1.3*doughnut_size))\n",
    "    fig.patch.set_alpha(0)\n",
    "    ax = fig.add_subplot(1,1,1)\n",
    "    plots = []\n",
    "    for i,row in df_var.iterrows():\n",
    "        pie  = ax.pie(chart_data[i], wedgeprops=dict(width = doughnut_pie), \\\n",
    "                  colors = tuple(color_list), startangle = 90 )\n",
    "        if region_label == True: \n",
    "            ax.set_title(df_var.loc[i, 'Region'], pad = title_distance, fontsize = font_size_region)\n",
    "        buff = io.StringIO()\n",
    "        plt.savefig(buff, format='SVG', transparent = True)\n",
    "        buff.seek(0)\n",
    "        svg = buff.read()\n",
    "        svg = svg.replace('\\n', '')\n",
    "        plots.append(svg)\n",
    "        \n",
    "if chart_type == 'bar':\n",
    "    fig = plt.figure(figsize=(bar_size, 1.3*bar_size))\n",
    "    fig.patch.set_alpha(0)\n",
    "    ax = fig.add_subplot(1,1,1)\n",
    "    plots = []\n",
    "    for i,row in df_var.iterrows():\n",
    "        ax.axis(\"off\")\n",
    "        bars = plt.bar(list(range(1,len(chart_data[i])+1)), height = chart_data[i], color = color_list)\n",
    "        buff = io.StringIO()\n",
    "        plt.savefig(buff, format='svg', transparent = True)\n",
    "        buff.seek(0)\n",
    "        svg = buff.read()\n",
    "        svg = svg.replace('\\n', '')\n",
    "        plots.append(svg)\n",
    "        plt.cla()\n",
    "    plt.clf()\n",
    "    plt.close()\n",
    "plt.show()"
   ]
  },
  {
   "cell_type": "markdown",
   "metadata": {},
   "source": [
    "# 3 Map creation"
   ]
  },
  {
   "cell_type": "markdown",
   "metadata": {},
   "source": [
    "### 3.1 Create map and add layers"
   ]
  },
  {
   "cell_type": "code",
   "execution_count": null,
   "metadata": {
    "jupyter": {
     "source_hidden": true
    }
   },
   "outputs": [],
   "source": [
    "#Create map \n",
    "map_center = [55.220228, 10.419778]\n",
    "m = folium.Map(location= map_center, zoom_start=5, tiles='')\n",
    "#Add background layers (sea, regions in model, countries outside of model)\n",
    "folium.Polygon(locations = [[-90,-180], [90,-180], [90,180], [-90,180]], color = background_color, fill_color = background_color, opacity = 1, fill_opacity = 1 ).add_to(m) #Background\n",
    "for region in layers_in: \n",
    "    folium.GeoJson(data = layers_in[region], name = 'regions_in', \\\n",
    "               style_function = lambda x:{'fillColor': regions_model_color, 'fillOpacity': 0.5, 'color': regions_model_color, 'weight':1}).add_to(m) #Regions within model\n",
    "for region in layers_out: \n",
    "    folium.GeoJson(data = layers_out[region], name = 'regions_out', \\\n",
    "                   style_function = lambda x:{'fillColor': regions_ext_color, 'fillOpacity': 0.5, 'color': regions_ext_color, 'weight':1}).add_to(m) #Neighbouring countries\n"
   ]
  },
  {
   "cell_type": "markdown",
   "metadata": {},
   "source": [
    "### 3.2 Function: add charts and popup tables"
   ]
  },
  {
   "cell_type": "code",
   "execution_count": null,
   "metadata": {
    "jupyter": {
     "source_hidden": true
    }
   },
   "outputs": [],
   "source": [
    "def write_to_html_file(df, title='', filename='out.html'):\n",
    "\n",
    "    template = '''\n",
    "<html>\n",
    "<head>\n",
    "<style>\n",
    "\n",
    "    h2 {\n",
    "        text-align: center;\n",
    "        font-family: Helvetica, Arial, sans-serif;\n",
    "        font-size: 130%;\n",
    "    }\n",
    "    table { \n",
    "        margin-left: auto;\n",
    "        margin-right: auto;\n",
    "    }\n",
    "    table, th, td {\n",
    "        border: 1px solid black;\n",
    "        border-collapse: collapse;\n",
    "    }\n",
    "    th, td {\n",
    "        padding: 5px;\n",
    "        text-align: center;\n",
    "        font-family: Helvetica, Arial, sans-serif;\n",
    "        font-size: 90%;\n",
    "    }\n",
    "\n",
    "    table tr:nth-of-type(1) {background: color0; color: textcouleur0}\n",
    "    table tr:nth-of-type(2) {background: color1; color: textcouleur1}\n",
    "    table tr:nth-of-type(3) {background: color2; color: textcouleur2}\n",
    "    table tr:nth-of-type(4) {background: color3; color: textcouleur3}\n",
    "    table tr:nth-of-type(5) {background: color4; color: textcouleur4}\n",
    "    table tr:nth-of-type(6) {background: color5; color: textcouleur5}\n",
    "    table tr:nth-of-type(7) {background: color6; color: textcouleur6}\n",
    "    table tr:nth-of-type(8) {background: color7; color: textcouleur7}\n",
    "    table tr:nth-of-type(9) {background: color8; color: textcouleur8}\n",
    "    table tr:nth-of-type(10) {background: color9; color: textcouleur9}\n",
    "    table tr:nth-of-type(11) {background: color_ten; color: textcouleurten}\n",
    "    table tr:nth-of-type(1) {background: color_eleven; color: textcouleur0}\n",
    "    table tr:nth-of-type(2) {background: color_twelve; color: textcouleur1}\n",
    "    table tr:nth-of-type(3) {background: color_thirteen; color: textcouleur2}\n",
    "    table tr:nth-of-type(4) {background: color_fourteen; color: textcouleur3}\n",
    "    table tr:nth-of-type(5) {background: color_fifteen; color: textcouleur4}\n",
    "    table tr:nth-of-type(6) {background: color_sixteen; color: textcouleur5}\n",
    "    table tr:nth-of-type(7) {background: color_seventeen; color: textcouleur6}\n",
    "    table tr:nth-of-type(8) {background: color_eightteen; color: textcouleur7}\n",
    "    table tr:nth-of-type(9) {background: color_nineteen; color: textcouleur8}\n",
    "    .wide {\n",
    "        width: 90%; \n",
    "    }\n",
    "\n",
    "</style>\n",
    "</head>\n",
    "<body>\n",
    "    '''\n",
    "    for key in color_dict.keys():\n",
    "        template = template.replace(key, color_dict[key])\n",
    "    if manual_colors == False:\n",
    "        for key in textcouleur_dict.keys():\n",
    "            template = template.replace(key, textcouleur_dict[key])\n",
    "    if manual_colors == True:\n",
    "        for key in textcouleur_dict.keys():\n",
    "            template = template.replace(key, textcouleur_dict[key])\n",
    "    template += '<h2> %s </h2>\\n' % title\n",
    "    if type(df) == pd.io.formats.style.Styler:\n",
    "        template += df.render()\n",
    "    else:\n",
    "        template += df.to_html(classes='wide', header = False, escape=False)\n",
    "    template += '''\n",
    "</body>\n",
    "</html>\n",
    "'''\n",
    "    with open(filename, 'w') as f:\n",
    "        f.write(template)"
   ]
  },
  {
   "cell_type": "markdown",
   "metadata": {},
   "source": [
    "### 3.3 Create map with display table"
   ]
  },
  {
   "cell_type": "code",
   "execution_count": null,
   "metadata": {
    "jupyter": {
     "source_hidden": true
    }
   },
   "outputs": [],
   "source": [
    "if chart_type != 'choropleth':\n",
    "    #Prepare dataframe to display\n",
    "    df_display = df_var.copy()\n",
    "    del df_display['Lat']\n",
    "    del(df_display['Lon'])\n",
    "    df_display = df_display.set_index('Region')\n",
    "\n",
    "    #Add everything to the map\n",
    "    for i, row in df_var.iterrows():\n",
    "        temp = round(pd.DataFrame(df_display.loc[df_var.loc[i,'Region']]),display_decimals)\n",
    "        html = write_to_html_file(temp, title = df_var.loc[i, 'Region'] + ' ' + variable + \": \" + display_column + ' ('  + unit + ')') \n",
    "        marker = folium.Marker(location=[df_var.loc[i,'Lat'], df_var.loc[i,'Lon']], popup = folium.Popup(open(\"out.html\", \"r\").read()))\n",
    "        if chart_type == 'doughnut' or chart_type == 'pie':\n",
    "            icon = folium.DivIcon(html=plots[i], icon_anchor=(doughnut_location[0],doughnut_location[1]))\n",
    "        if chart_type == 'bar':\n",
    "            icon = folium.DivIcon(html=plots[i], icon_anchor=(bar_location[0],bar_location[1]))\n",
    "\n",
    "        marker.add_child(icon)\n",
    "        m.add_child(marker)"
   ]
  },
  {
   "cell_type": "markdown",
   "metadata": {},
   "source": [
    "### 3.4 Choropleth"
   ]
  },
  {
   "cell_type": "markdown",
   "metadata": {},
   "source": [
    "##### 3.4.1 Merge region layers for choropleth"
   ]
  },
  {
   "cell_type": "code",
   "execution_count": null,
   "metadata": {},
   "outputs": [],
   "source": [
    "if chart_type == 'choropleth':\n",
    "    merged_layer = gpd.read_file('.\\input\\\\geo_files\\\\geojson_files\\\\'+ r_in[0] + '.geojson')\n",
    "    for region in r_in[1:]:\n",
    "        add_region = gpd.read_file('.\\input\\\\geo_files\\\\geojson_files\\\\'+ region + '.geojson')\n",
    "        merged_layer = merged_layer.append(add_region)"
   ]
  },
  {
   "cell_type": "markdown",
   "metadata": {},
   "source": [
    "##### 3.4.2 Add colors to choropleth"
   ]
  },
  {
   "cell_type": "code",
   "execution_count": null,
   "metadata": {},
   "outputs": [],
   "source": [
    "if chart_type == 'choropleth':\n",
    "    if len(str(manual_bins)) > 0:\n",
    "        bins = manual_bins\n",
    "    else:\n",
    "        bins = list(df_var[display_variable].quantile([0, 0.25, 0.5, 0.75, 1]))\n",
    "    \n",
    "    folium.Choropleth(\n",
    "        geo_data= merged_layer,\n",
    "        name='choropleth',\n",
    "        data=df_var,\n",
    "        columns=['Region', display_variable],\n",
    "        key_on='feature.properties.id',\n",
    "        fill_color=choropleth_colorscheme,\n",
    "        fill_opacity=0.7,\n",
    "        line_opacity=0.2,\n",
    "        legend_name= display_variable,\n",
    "        bins = bins\n",
    "    ).add_to(m)\n",
    "#Display values on map\n",
    "    for i,row in df_var.iterrows():\n",
    "        folium.Marker(location=[df_var.loc[i,'Lat'], df_var.loc[i,'Lon']],\n",
    "                      icon=DivIcon(\n",
    "                          icon_size=(150,36), \n",
    "                                   icon_anchor=tuple(choropleth_location),\n",
    "         html='<div style=\"font-size: {}pt; color : {}\">{}</div>'.format(font_size_region, \\\n",
    "                                                                         region_text, \\\n",
    "                                                                         round(df_var.loc[i,display_variable], \\\n",
    "                                                                               display_decimals)))\\\n",
    "                     ).add_to(m)  \n"
   ]
  },
  {
   "cell_type": "markdown",
   "metadata": {},
   "source": [
    "### 3.5 Add legend and display map"
   ]
  },
  {
   "cell_type": "code",
   "execution_count": null,
   "metadata": {
    "jupyter": {
     "source_hidden": true
    }
   },
   "outputs": [],
   "source": [
    "if chart_type == 'pie' or chart_type == 'doughnut' or chart_type == 'bar': \n",
    "    empty_values = ['']*11\n",
    "    legend_layout = [\"\"\"<span style='background:color0;opacity:1;'></span>item0\"\"\",\\\n",
    "                    \"\"\"<span style='background:color1;opacity:1;'></span>item1\"\"\",\\\n",
    "                    \"\"\"<span style='background:color2;opacity:1;'></span>item2\"\"\",\\\n",
    "                    \"\"\"<span style='background:color3;opacity:1;'></span>item3\"\"\",\\\n",
    "                    \"\"\"<span style='background:color4;opacity:1;'></span>item4\"\"\",\\\n",
    "                    \"\"\"<span style='background:color5;opacity:1;'></span>item5\"\"\",\\\n",
    "                    \"\"\"<span style='background:color6;opacity:1;'></span>item6\"\"\",\\\n",
    "                    \"\"\"<span style='background:color7;opacity:1;'></span>item7\"\"\",\\\n",
    "                    \"\"\"<span style='background:color8;opacity:1;'></span>item8\"\"\",\\\n",
    "                    \"\"\"<span style='background:color9;opacity:1;'></span>item9\"\"\",\\\n",
    "                    \"\"\"<span style='background:color_ten;opacity:1;'></span>item_ten\"\"\"]\n",
    "    legend_layout = legend_layout[0:len(df_display.columns)]\n",
    "    empty_values = empty_values[len(df_display.columns):]\n",
    "    layout_list = legend_layout + empty_values\n",
    "    layout_dict = dict(zip(insert_keys, layout_list))\n",
    "    if manual_colors == False:\n",
    "        legend_values = list(df_display.columns)\n",
    "    if manual_colors == True:\n",
    "        legend_values = list(df_color.Value.unique())\n",
    "    item_dict = dict(zip(item_keys, legend_values))\n",
    "\n",
    "\n",
    "\n",
    "    from branca.element import Template, MacroElement\n",
    "    template = \"\"\"\n",
    "    {% macro html(this, kwargs) %}\n",
    "\n",
    "    <!doctype html>\n",
    "    <html lang=\"en\">\n",
    "    <head>\n",
    "      <meta charset=\"utf-8\">\n",
    "      <meta name=\"viewport\" content=\"width=device-width, initial-scale=1\">\n",
    "      <title>jQuery UI Draggable - Default functionality</title>\n",
    "      <link rel=\"stylesheet\" href=\"//code.jquery.com/ui/1.12.1/themes/base/jquery-ui.css\">\n",
    "\n",
    "      <script src=\"https://code.jquery.com/jquery-1.12.4.js\"></script>\n",
    "      <script src=\"https://code.jquery.com/ui/1.12.1/jquery-ui.js\"></script>\n",
    "\n",
    "      <script>\n",
    "      $( function() {\n",
    "        $( \"#maplegend\" ).draggable({\n",
    "                        start: function (event, ui) {\n",
    "                            $(this).css({\n",
    "                                right: \"auto\",\n",
    "                                top: \"auto\",\n",
    "                                bottom: \"auto\"\n",
    "                            });\n",
    "                        }\n",
    "                    });\n",
    "    });\n",
    "\n",
    "      </script>\n",
    "    </head>\n",
    "    <body>\n",
    "\n",
    "\n",
    "    <div id='maplegend' class='maplegend' \n",
    "        style='position: absolute; z-index:9999; border:2px solid grey; background-color:rgba(255, 255, 255, 1);\n",
    "         border-radius:6px; padding: 10px; font-size:14px; right: 20px; bottom: 20px;'>\n",
    "\n",
    "    <div class='legend-title'>Legend</div>\n",
    "    <div class='legend-scale'>\n",
    "      <ul class='legend-labels'>\n",
    "        <li>insert0</li>\n",
    "        <li>insert1</li>\n",
    "        <li>insert2</li>\n",
    "        <li>insert3</li>\n",
    "        <li>insert4</li>\n",
    "        <li>insert5</li>\n",
    "        <li>insert6</li>\n",
    "        <li>insert7</li>\n",
    "        <li>insert8</li>\n",
    "        <li>insert9</li>\n",
    "        <li>insert_ten</li>\n",
    "\n",
    "      </ul>\n",
    "    </div>\n",
    "    </div>\n",
    "\n",
    "    </body>\n",
    "    </html>\n",
    "\n",
    "    <style type='text/css'>\n",
    "      .maplegend .legend-title {\n",
    "        text-align: left;\n",
    "        margin-bottom: 5px;\n",
    "        font-weight: bold;\n",
    "        font-size: 90%;\n",
    "        }\n",
    "      .maplegend .legend-scale ul {\n",
    "        margin: 0;\n",
    "        margin-bottom: 5px;\n",
    "        padding: 0;\n",
    "        float: left;\n",
    "        list-style: none;\n",
    "        }\n",
    "      .maplegend .legend-scale ul li {\n",
    "        font-size: 80%;\n",
    "        list-style: none;\n",
    "        margin-left: 0;\n",
    "        line-height: 18px;\n",
    "        margin-bottom: 2px;\n",
    "        }\n",
    "      .maplegend ul.legend-labels li span {\n",
    "        display: block;\n",
    "        float: left;\n",
    "        height: 16px;\n",
    "        width: 30px;\n",
    "        margin-right: 5px;\n",
    "        margin-left: 0;\n",
    "        border: 1px solid #999;\n",
    "        }\n",
    "      .maplegend .legend-source {\n",
    "        font-size: 80%;\n",
    "        color: #777;\n",
    "        clear: both;\n",
    "        }\n",
    "      .maplegend a {\n",
    "        color: #777;\n",
    "        }\n",
    "    </style>\n",
    "    {% endmacro %}\"\"\"\n",
    "    for key in layout_dict.keys():\n",
    "        template = template.replace(key, layout_dict[key])\n",
    "    for key in color_dict.keys():\n",
    "        template = template.replace(key, color_dict[key])\n",
    "    for key in item_dict.keys():\n",
    "        template = template.replace(key, item_dict[key])\n",
    "\n",
    "    macro = MacroElement()\n",
    "    macro._template = Template(template)\n",
    "\n",
    "    #Add region names for bar charts\n",
    "    if chart_type == 'bar' and region_label == True:\n",
    "        for i,row in df_region.loc[df_region['Display']==1, ].iterrows():\n",
    "            folium.Marker(location=[df_region.loc[i,'Lat'], df_region.loc[i,'Lon']],\n",
    "                      icon=DivIcon(\n",
    "                          icon_size=(150,36), \n",
    "                                   icon_anchor=(7,-7),\n",
    "         html='<div style=\"font-size: {}pt; color : {}\">{}</div>'.format(font_size_region, region_text, df_region.loc[i,'Region']))).add_to(m)  \n",
    "\n",
    "    m.get_root().add_child(macro)"
   ]
  },
  {
   "cell_type": "code",
   "execution_count": null,
   "metadata": {},
   "outputs": [],
   "source": [
    "m"
   ]
  },
  {
   "cell_type": "markdown",
   "metadata": {},
   "source": [
    "# 4 Save map"
   ]
  },
  {
   "cell_type": "code",
   "execution_count": null,
   "metadata": {},
   "outputs": [],
   "source": [
    "#Make Chartmap folder\n",
    "if not os.path.isdir('output/Chartmap/'):\n",
    "    os.makedirs('output/Chartmap/')\n",
    "    \n",
    "#Save map \n",
    "m.save('output/Chartmap/' + map_name)\n",
    "\n",
    "#Delete temporary html table\n",
    "if os.path.isfile('out.html'):\n",
    "    os.remove('out.html')"
   ]
  }
 ],
 "metadata": {
  "kernelspec": {
   "display_name": "Python 3",
   "language": "python",
   "name": "python3"
  },
  "language_info": {
   "codemirror_mode": {
    "name": "ipython",
    "version": 3
   },
   "file_extension": ".py",
   "mimetype": "text/x-python",
   "name": "python",
   "nbconvert_exporter": "python",
   "pygments_lexer": "ipython3",
   "version": "3.8.3"
  }
 },
 "nbformat": 4,
 "nbformat_minor": 4
}
