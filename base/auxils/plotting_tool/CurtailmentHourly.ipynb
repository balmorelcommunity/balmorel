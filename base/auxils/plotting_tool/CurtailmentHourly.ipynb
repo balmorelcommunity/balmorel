{
 "cells": [
  {
   "cell_type": "markdown",
   "metadata": {},
   "source": [
    "# Import Required Packages"
   ]
  },
  {
   "cell_type": "code",
   "execution_count": 1,
   "metadata": {},
   "outputs": [],
   "source": [
    "# Imports\n",
    "import os\n",
    "import datetime\n",
    "import glob\n",
    "import pandas as pd\n",
    "import numpy as np\n",
    "import matplotlib.pyplot as plt\n",
    "import time\n",
    "\n"
   ]
  },
  {
   "cell_type": "markdown",
   "metadata": {},
   "source": [
    "# Input data from User"
   ]
  },
  {
   "cell_type": "code",
   "execution_count": 19,
   "metadata": {},
   "outputs": [],
   "source": [
    "#Market analysed: 'Investment','FullYear','DayAhead','Balancing' (choose one or several)\n",
    "market_analysed=['DayAhead','Balancing'] \n",
    "output='CurtailmentHourly'\n",
    "first_timestep=\"2012-01-02\"\n",
    "#Number of timesteps (total number of combination of SSS and TTT)\n",
    "number_periods=8736*12 \n",
    "#Time size of each time step for creating timestamp\n",
    "size_timestep=\"300s\"\n",
    "#Time size of each TTT calculating energy values\n",
    "size_t=1/12;\n",
    "#Countries in focus\n",
    "ccc_in_focus = ['DENMARK', 'GERMANY', 'NORWAY', 'GREAT_BRITAIN','BELGIUM','HOLLAND']\n",
    "\n",
    "\n"
   ]
  },
  {
   "cell_type": "markdown",
   "metadata": {},
   "source": [
    "# Plot Settings"
   ]
  },
  {
   "cell_type": "code",
   "execution_count": 3,
   "metadata": {},
   "outputs": [],
   "source": [
    "# Set plotting specifications\n",
    "% matplotlib inline\n",
    "plt.rcParams.update({'font.size': 21})\n",
    "plt.rcParams['xtick.major.pad']='12'\n",
    "plt.rc('legend', fontsize=16)\n",
    "y_limit = 1.1\n",
    "lw = 3"
   ]
  },
  {
   "cell_type": "markdown",
   "metadata": {},
   "source": [
    "# Read Input Files"
   ]
  },
  {
   "cell_type": "code",
   "execution_count": 4,
   "metadata": {},
   "outputs": [],
   "source": [
    "data=pd.DataFrame()\n",
    "for market in market_analysed:\n",
    "    csvfiles = []\n",
    "    for file in glob.glob(\"./input/results/\" + market + \"/*.csv\"):\n",
    "        csvfiles.append(file)\n",
    "\n",
    "    csvfiles=[file.replace('./input\\\\','') for file in csvfiles] \n",
    "    csvfiles=[file.replace('.csv','') for file in csvfiles]  \n",
    "    csvfiles=[file.split('_') for file in csvfiles]  \n",
    "    csvfiles = np.asarray(csvfiles)  \n",
    "    csvfiles=pd.DataFrame.from_records(csvfiles)\n",
    "    \n",
    "    csvfiles.rename(columns={0: 'Output', 1: 'Scenario',2: 'Year',3:'Subset'}, inplace=True)\n",
    "    scenarios=csvfiles.Scenario.unique().tolist()\n",
    "    years=csvfiles.Year.unique().tolist()\n",
    "    subsets=csvfiles.Subset.unique().tolist()\n",
    "\n",
    "    for scenario in scenarios:\n",
    "        for year in years:\n",
    "            for subset in subsets:\n",
    "                file = \"./input/results/\"+ market + \"/\"+ output + \"_\" + scenario + \"_\" + year + \"_\" + subset + \".csv\"\n",
    "                if os.path.isfile(file):\n",
    "                    df=pd.read_csv(file,encoding='utf8')\n",
    "                    df['Scenario'] = scenario\n",
    "                    df['Market']   = market\n",
    "                    #Renaming columns just in case timeconversion was required\n",
    "                    df.rename(columns = {'G':'GGG', 'C':'CCC', 'Y':'YYY','TTT_NEW':'TTT','SSS_NEW':'SSS'}, inplace = True) \n",
    "                    data=data.append(df) \n",
    "\n",
    "                \n",
    "                "
   ]
  },
  {
   "cell_type": "code",
   "execution_count": 5,
   "metadata": {},
   "outputs": [
    {
     "name": "stderr",
     "output_type": "stream",
     "text": [
      "C:\\Anaconda3\\lib\\site-packages\\ipykernel_launcher.py:3: UserWarning: Pandas doesn't allow columns to be created via a new attribute name - see https://pandas.pydata.org/pandas-docs/stable/indexing.html#attribute-access\n",
      "  This is separate from the ipykernel package so we can avoid doing imports until\n"
     ]
    }
   ],
   "source": [
    "#Timestamp addition\n",
    "full_timesteps = pd.read_csv('./input/full_timesteps.csv')\n",
    "full_timesteps.Key=full_timesteps['SSS']+full_timesteps['TTT']\n",
    "full_timesteps['timestamp']= pd.date_range(first_timestep, periods = number_periods, freq =size_timestep)\n",
    "dict_timestamp=dict(zip(full_timesteps.Key, full_timesteps.timestamp))\n",
    "data['timestamp']=data['SSS']+data['TTT']\n",
    "data['timestamp']=data['timestamp'].map(dict_timestamp)\n",
    "\n"
   ]
  },
  {
   "cell_type": "code",
   "execution_count": null,
   "metadata": {},
   "outputs": [],
   "source": [
    "data.to_csv(r'./output/test.csv')"
   ]
  },
  {
   "cell_type": "markdown",
   "metadata": {},
   "source": [
    "# Additional set declaration"
   ]
  },
  {
   "cell_type": "code",
   "execution_count": 6,
   "metadata": {},
   "outputs": [],
   "source": [
    "ccc = list(data.CCC.unique())\n",
    "rrr = list(data.RRR.unique())\n",
    "tech_type = list(data.TECH_TYPE.unique())\n",
    "commodity = list(data.COMMODITY.unique())\n",
    "fff = list(data.FFF.unique())\n",
    "sss = list(full_timesteps.SSS.unique())\n",
    "ttt = list(full_timesteps.TTT.unique())\n"
   ]
  },
  {
   "cell_type": "markdown",
   "metadata": {},
   "source": [
    "# Time step selection"
   ]
  },
  {
   "cell_type": "code",
   "execution_count": 7,
   "metadata": {},
   "outputs": [],
   "source": [
    "# Seasons to investigate\n",
    "# season_names = ['S01', 'S07', 'S20', 'S24', 'S28', 'S38', 'S42', 'S43']\n",
    "# Make a list of every nth element of sss (1 <= nth <= number of elements in sss)\n",
    "nth = 1\n",
    "s = sss[0::nth]\n",
    " # Or select seasons by names\n",
    "# s = season_names\n"
   ]
  },
  {
   "cell_type": "code",
   "execution_count": 8,
   "metadata": {},
   "outputs": [],
   "source": [
    "# Terms to investigate\n",
    "# term_names = ['T005', 'T019', 'T033', 'T047', 'T061', 'T075', 'T089', 'T103', 'T117', 'T131', 'T145', 'T159']\n",
    "# Make a list of every nth element of ttt (1 <= nth <= number of elements in ttt)\n",
    "nth = 1\n",
    "t = ttt[0::nth]\n",
    "# Or select terms by name\n",
    "# t = term_names"
   ]
  },
  {
   "cell_type": "markdown",
   "metadata": {},
   "source": [
    "# Make Directories\n"
   ]
  },
  {
   "cell_type": "code",
   "execution_count": 9,
   "metadata": {},
   "outputs": [],
   "source": [
    "# Make output folder\n",
    "if not os.path.isdir('output'):\n",
    "    os.makedirs('output')"
   ]
  },
  {
   "cell_type": "code",
   "execution_count": 10,
   "metadata": {},
   "outputs": [],
   "source": [
    "# Make CurtailmentHourly folder\n",
    "if not os.path.isdir('output/' + output):\n",
    "    os.makedirs('output/' + output)"
   ]
  },
  {
   "cell_type": "code",
   "execution_count": 11,
   "metadata": {},
   "outputs": [],
   "source": [
    "# Make market folder\n",
    "for market in market_analysed:\n",
    "    if not os.path.isdir('output/' + output + '/'+ market +'/Country_wise'):\n",
    "        os.makedirs('output/' + output + '/'+ market +'/Country_wise')\n",
    "# Make country folder\n",
    "    if not os.path.isdir('output/' + output  + '/'+ market +'/Country_wise'):\n",
    "        os.makedirs('output/' + output  + '/'+ market  +'/Country_wise')\n",
    "    # Make country wise folders\n",
    "    for c in ccc:\n",
    "        if not os.path.isdir('output/' + output  + '/'+ market +'/Country_wise/' + c):\n",
    "            os.makedirs('output/' + output  + '/'+ market +'/Country_wise/' + c)"
   ]
  },
  {
   "cell_type": "markdown",
   "metadata": {},
   "source": [
    "# Plotting"
   ]
  },
  {
   "cell_type": "code",
   "execution_count": 20,
   "metadata": {},
   "outputs": [],
   "source": [
    "# Make data frames to plot\n",
    "data_plot = data[(data.SSS.isin(s)) & (data.TTT.isin(t))]\n",
    "data_plot = data[data.CCC.isin(ccc_in_focus)]"
   ]
  },
  {
   "cell_type": "markdown",
   "metadata": {},
   "source": [
    "## Plot per year, scenario, market "
   ]
  },
  {
   "cell_type": "code",
   "execution_count": 61,
   "metadata": {},
   "outputs": [],
   "source": [
    "df_plot=(pd.DataFrame(data_plot.groupby(['YYY', 'Scenario', 'Market'])['Val'].agg('sum')/1000000*size_t))"
   ]
  },
  {
   "cell_type": "code",
   "execution_count": 54,
   "metadata": {},
   "outputs": [
    {
     "data": {
      "text/html": [
       "<div>\n",
       "<style scoped>\n",
       "    .dataframe tbody tr th:only-of-type {\n",
       "        vertical-align: middle;\n",
       "    }\n",
       "\n",
       "    .dataframe tbody tr th {\n",
       "        vertical-align: top;\n",
       "    }\n",
       "\n",
       "    .dataframe thead th {\n",
       "        text-align: right;\n",
       "    }\n",
       "</style>\n",
       "<table border=\"1\" class=\"dataframe\">\n",
       "  <thead>\n",
       "    <tr style=\"text-align: right;\">\n",
       "      <th></th>\n",
       "      <th></th>\n",
       "      <th></th>\n",
       "      <th>Val</th>\n",
       "    </tr>\n",
       "    <tr>\n",
       "      <th>YYY</th>\n",
       "      <th>Scenario</th>\n",
       "      <th>Market</th>\n",
       "      <th></th>\n",
       "    </tr>\n",
       "  </thead>\n",
       "  <tbody>\n",
       "    <tr>\n",
       "      <th>2020</th>\n",
       "      <th>OffshoreGrid</th>\n",
       "      <th>Balancing</th>\n",
       "      <td>11.724462</td>\n",
       "    </tr>\n",
       "    <tr>\n",
       "      <th rowspan=\"2\" valign=\"top\">2030</th>\n",
       "      <th>OffshoreGrid</th>\n",
       "      <th>Balancing</th>\n",
       "      <td>6.821968</td>\n",
       "    </tr>\n",
       "    <tr>\n",
       "      <th>ProjectBased</th>\n",
       "      <th>Balancing</th>\n",
       "      <td>5.889019</td>\n",
       "    </tr>\n",
       "    <tr>\n",
       "      <th rowspan=\"3\" valign=\"top\">2050</th>\n",
       "      <th>OffshoreGrid</th>\n",
       "      <th>Balancing</th>\n",
       "      <td>48.553536</td>\n",
       "    </tr>\n",
       "    <tr>\n",
       "      <th rowspan=\"2\" valign=\"top\">ProjectBased</th>\n",
       "      <th>Balancing</th>\n",
       "      <td>42.470880</td>\n",
       "    </tr>\n",
       "    <tr>\n",
       "      <th>DayAhead</th>\n",
       "      <td>43.011371</td>\n",
       "    </tr>\n",
       "  </tbody>\n",
       "</table>\n",
       "</div>"
      ],
      "text/plain": [
       "                                   Val\n",
       "YYY  Scenario     Market              \n",
       "2020 OffshoreGrid Balancing  11.724462\n",
       "2030 OffshoreGrid Balancing   6.821968\n",
       "     ProjectBased Balancing   5.889019\n",
       "2050 OffshoreGrid Balancing  48.553536\n",
       "     ProjectBased Balancing  42.470880\n",
       "                  DayAhead   43.011371"
      ]
     },
     "execution_count": 54,
     "metadata": {},
     "output_type": "execute_result"
    }
   ],
   "source": [
    "df_plot"
   ]
  },
  {
   "cell_type": "code",
   "execution_count": 65,
   "metadata": {
    "scrolled": true
   },
   "outputs": [],
   "source": [
    "df_plot.reset_index(inplace=True)"
   ]
  },
  {
   "cell_type": "code",
   "execution_count": 66,
   "metadata": {},
   "outputs": [
    {
     "data": {
      "text/html": [
       "<div>\n",
       "<style scoped>\n",
       "    .dataframe tbody tr th:only-of-type {\n",
       "        vertical-align: middle;\n",
       "    }\n",
       "\n",
       "    .dataframe tbody tr th {\n",
       "        vertical-align: top;\n",
       "    }\n",
       "\n",
       "    .dataframe thead th {\n",
       "        text-align: right;\n",
       "    }\n",
       "</style>\n",
       "<table border=\"1\" class=\"dataframe\">\n",
       "  <thead>\n",
       "    <tr style=\"text-align: right;\">\n",
       "      <th></th>\n",
       "      <th>YYY</th>\n",
       "      <th>Scenario</th>\n",
       "      <th>Market</th>\n",
       "      <th>Val</th>\n",
       "    </tr>\n",
       "  </thead>\n",
       "  <tbody>\n",
       "    <tr>\n",
       "      <th>0</th>\n",
       "      <td>2020</td>\n",
       "      <td>OffshoreGrid</td>\n",
       "      <td>Balancing</td>\n",
       "      <td>11.724462</td>\n",
       "    </tr>\n",
       "    <tr>\n",
       "      <th>1</th>\n",
       "      <td>2030</td>\n",
       "      <td>OffshoreGrid</td>\n",
       "      <td>Balancing</td>\n",
       "      <td>6.821968</td>\n",
       "    </tr>\n",
       "    <tr>\n",
       "      <th>2</th>\n",
       "      <td>2030</td>\n",
       "      <td>ProjectBased</td>\n",
       "      <td>Balancing</td>\n",
       "      <td>5.889019</td>\n",
       "    </tr>\n",
       "    <tr>\n",
       "      <th>3</th>\n",
       "      <td>2050</td>\n",
       "      <td>OffshoreGrid</td>\n",
       "      <td>Balancing</td>\n",
       "      <td>48.553536</td>\n",
       "    </tr>\n",
       "    <tr>\n",
       "      <th>4</th>\n",
       "      <td>2050</td>\n",
       "      <td>ProjectBased</td>\n",
       "      <td>Balancing</td>\n",
       "      <td>42.470880</td>\n",
       "    </tr>\n",
       "    <tr>\n",
       "      <th>5</th>\n",
       "      <td>2050</td>\n",
       "      <td>ProjectBased</td>\n",
       "      <td>DayAhead</td>\n",
       "      <td>43.011371</td>\n",
       "    </tr>\n",
       "  </tbody>\n",
       "</table>\n",
       "</div>"
      ],
      "text/plain": [
       "    YYY      Scenario     Market        Val\n",
       "0  2020  OffshoreGrid  Balancing  11.724462\n",
       "1  2030  OffshoreGrid  Balancing   6.821968\n",
       "2  2030  ProjectBased  Balancing   5.889019\n",
       "3  2050  OffshoreGrid  Balancing  48.553536\n",
       "4  2050  ProjectBased  Balancing  42.470880\n",
       "5  2050  ProjectBased   DayAhead  43.011371"
      ]
     },
     "execution_count": 66,
     "metadata": {},
     "output_type": "execute_result"
    }
   ],
   "source": [
    "df_plot"
   ]
  },
  {
   "cell_type": "code",
   "execution_count": 67,
   "metadata": {},
   "outputs": [
    {
     "data": {
      "text/plain": [
       "<BarContainer object of 6 artists>"
      ]
     },
     "execution_count": 67,
     "metadata": {},
     "output_type": "execute_result"
    },
    {
     "data": {
      "image/png": "[encoded data removed]",
      "text/plain": [
       "<Figure size 432x288 with 1 Axes>"
      ]
     },
     "metadata": {},
     "output_type": "display_data"
    }
   ],
   "source": [
    "for scenario in Scenarios:\n",
    "    df_plot\n",
    "plt.bar(df_plot.YYY, df_plot.Val)\n"
   ]
  },
  {
   "cell_type": "code",
   "execution_count": null,
   "metadata": {
    "scrolled": true
   },
   "outputs": [],
   "source": [
    "for i in years:\n",
    "    spp_plot[data.SSS.isin([i])][ccc[:2]].plot(figsize=(16,9), lw=lw)\n",
    "    plt.ylim([0, y_limit])\n",
    "    plt.legend(loc=1)\n",
    "    plt.title('Curtailment in ' +  i)\n",
    "    plt.xlabel('Terms')\n",
    "    plt.xticks(t_marker, t_selected, rotation=45)\n",
    "    for x_pos in t_marker:\n",
    "        plt.axvline(x=x_pos, c='black', lw=6, alpha=0.3)\n",
    "    plt.tight_layout()\n",
    "    plt.savefig('output/pv_production/spp_' + i + '.png', compression=None)\n",
    "    # plt.show()\n",
    "    plt.close()\n",
    "plt.close()"
   ]
  },
  {
   "cell_type": "code",
   "execution_count": null,
   "metadata": {},
   "outputs": [],
   "source": []
  },
  {
   "cell_type": "code",
   "execution_count": null,
   "metadata": {},
   "outputs": [],
   "source": [
    "#Plot example with several x axis\n",
    "\n",
    "fig = plt.figure()\n",
    "ax1 = fig.add_subplot(111)\n",
    "ax2 = ax1.twiny()\n",
    "\n",
    "# Add some extra space for the second axis at the bottom\n",
    "fig.subplots_adjust(bottom=0.2)\n",
    "ax1.set_xticks([1,2,4,5,7,8])\n",
    "ax1.set_xlim(0,9)\n",
    "ax1.set_xticklabels(('2015','2016','2015','2016','2015','2016'))\n",
    "ax2.spines[\"bottom\"].set_position((\"axes\", -0.15))\n",
    "ax2.xaxis.set_ticks_position(\"bottom\")\n",
    "ax2.spines[\"bottom\"].set_visible(True)\n",
    "ax2.set_xticks([1.5,4.5,7.5])\n",
    "ax2.set_xticklabels(('1','2','3'))\n",
    "ax2.set_xlim(0,9)\n",
    "\n",
    "b1 = np.random.randint(0,100,6)\n",
    "b2 = np.random.randint(0,100,6)\n",
    "b3 = np.random.randint(0,100,6)\n",
    "plt.bar(np.array([1,2,4,5,7,8])-0.4,b1,color='blue')\n",
    "plt.bar(np.array([1,2,4,5,7,8])-0.4,b2,color='orange',bottom=b1)\n",
    "plt.bar(np.array([1,2,4,5,7,8])-0.4,b3,color='yellow',bottom=b1+b2)\n",
    "\n",
    "plt.show()"
   ]
  },
  {
   "cell_type": "code",
   "execution_count": null,
   "metadata": {},
   "outputs": [],
   "source": []
  }
 ],
 "metadata": {
  "kernelspec": {
   "display_name": "Python 3",
   "language": "python",
   "name": "python3"
  },
  "language_info": {
   "codemirror_mode": {
    "name": "ipython",
    "version": 3
   },
   "file_extension": ".py",
   "mimetype": "text/x-python",
   "name": "python",
   "nbconvert_exporter": "python",
   "pygments_lexer": "ipython3",
   "version": "3.6.5"
  }
 },
 "nbformat": 4,
 "nbformat_minor": 2
}
