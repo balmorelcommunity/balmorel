{
 "cells": [
  {
   "cell_type": "markdown",
   "metadata": {},
   "source": [
    "# 1. Import Required Packages"
   ]
  },
  {
   "cell_type": "code",
   "execution_count": 1,
   "metadata": {},
   "outputs": [],
   "source": [
    "# Imports\n",
    "import os\n",
    "import datetime\n",
    "import glob\n",
    "import gdxpds\n",
    "import pandas as pd\n",
    "import numpy as np\n",
    "import matplotlib.pyplot as plt\n",
    "import time\n",
    "import seaborn as sns\n",
    "import plotly.express as px\n",
    "import plotly.graph_objects as go\n",
    "from plotly.subplots import make_subplots"
   ]
  },
  {
   "cell_type": "markdown",
   "metadata": {},
   "source": [
    "# 2. Input data from User"
   ]
  },
  {
   "cell_type": "code",
   "execution_count": null,
   "metadata": {},
   "outputs": [],
   "source": [
    "#Market analysed: 'Investment','FullYear','DayAhead','Balancing' (choose one or several)\n",
    "markets=['FullYear'] \n",
    "filetype_input = 'gdx' #Choose input file type: 'gdx' or 'csv'\n",
    "gams_dir = 'C:/GAMS/win64/28.2' #Only required if filetype_input == 'gdx'\n",
    "output='BalanceElectricityHourly'\n",
    "first_timestep=\"2012-01-02\"\n",
    "#Meaning of SSS and TTT in the data: 'DaysHours','Hours5min','WeeksHours'\n",
    "meaning_SSS_TTT='DaysHours'\n",
    "#Time size of each time step in TTT for creating timestamp\n",
    "size_timestep=\"3600s\"\n",
    "\n"
   ]
  },
  {
   "cell_type": "markdown",
   "metadata": {},
   "source": [
    "# 3. Plot Settings"
   ]
  },
  {
   "cell_type": "code",
   "execution_count": null,
   "metadata": {},
   "outputs": [],
   "source": [
    "# Set plotting specifications\n",
    "%matplotlib inline\n",
    "plt.rcParams.update({'font.size': 21})\n",
    "plt.rcParams['xtick.major.pad']='12'\n",
    "plt.rc('legend', fontsize=16)\n",
    "y_limit = 1.1\n",
    "lw = 3"
   ]
  },
  {
   "cell_type": "markdown",
   "metadata": {},
   "source": [
    "# 4. Read Input Files"
   ]
  },
  {
   "cell_type": "markdown",
   "metadata": {},
   "source": [
    "##### 4A. CSV input"
   ]
  },
  {
   "cell_type": "code",
   "execution_count": null,
   "metadata": {},
   "outputs": [],
   "source": [
    "if filetype_input == 'csv':\n",
    "    data=pd.DataFrame()\n",
    "    for market in markets:\n",
    "        csvfiles = []\n",
    "        for file in glob.glob(\"./input/results/\" + market + \"/*.csv\"):\n",
    "            csvfiles.append(file)\n",
    "\n",
    "        csvfiles=[file.replace('./input\\\\','') for file in csvfiles] \n",
    "        csvfiles=[file.replace('.csv','') for file in csvfiles]  \n",
    "        csvfiles=[file.split('_') for file in csvfiles]  \n",
    "        csvfiles = np.asarray(csvfiles)  \n",
    "        csvfiles=pd.DataFrame.from_records(csvfiles)\n",
    "\n",
    "        csvfiles.rename(columns={0: 'Output', 1: 'Scenario',2: 'Year',3:'Subset'}, inplace=True)\n",
    "        scenarios=csvfiles.Scenario.unique().tolist()\n",
    "        years=csvfiles.Year.unique().tolist()\n",
    "        subsets=csvfiles.Subset.unique().tolist()\n",
    "\n",
    "        for scenario in scenarios:\n",
    "            for year in years:\n",
    "                for subset in subsets:\n",
    "                    file = \"./input/results/\"+ market + \"/\"+ output + \"_\" + scenario + \"_\" + year + \"_\" + subset + \".csv\"\n",
    "                    if os.path.isfile(file):\n",
    "                        df=pd.read_csv(file,encoding='utf8')\n",
    "                        df['Scenario'] = scenario\n",
    "                        df['Market']   = market\n",
    "                        #Renaming columns just in case timeconversion was required\n",
    "                        #df.rename(columns = {'G':'GGG', 'C':'CCC', 'Y':'YYY','TTT_NEW':'TTT','SSS_NEW':'SSS'}, inplace = True) \n",
    "                        data=data.append(df) \n",
    "\n",
    "                \n",
    "                "
   ]
  },
  {
   "cell_type": "markdown",
   "metadata": {},
   "source": [
    "##### 4B. GDX input"
   ]
  },
  {
   "cell_type": "markdown",
   "metadata": {},
   "source": [
    "##### 4B.1 Function: reading gdx-files"
   ]
  },
  {
   "cell_type": "code",
   "execution_count": null,
   "metadata": {},
   "outputs": [],
   "source": [
    "if filetype_input == 'gdx':\n",
    "    def df_creation(gdx_file):\n",
    "        df = pd.DataFrame()\n",
    "        if '_' in gdx_file:\n",
    "                # if yes: extract scenario name from gdx filename\n",
    "            scenario = gdx_file.split('_', 3)[-3]\n",
    "            year = gdx_file.split('_', 3)[-2]\n",
    "            subset = gdx_file.split('_', 3)[-1][:-4]\n",
    "            market = gdx_file.split('\\\\', 1)[0].split('/',3)[-1]\n",
    "        else:\n",
    "               # if no: use nan instead\n",
    "            scenario = 'nan'\n",
    "\n",
    "        # create empty temporary dataframe and load the gdx data into it\n",
    "        temp = pd.DataFrame()\n",
    "        temp = gdxpds.to_dataframe(gdx_file, 'EL_BALANCE_YCRST', gams_dir=gams_dir,\n",
    "                               old_interface=False)\n",
    "\n",
    "        # add a scenario column with the scenario name of the current iteration\n",
    "        temp['Scenario'] = scenario\n",
    "        temp['Market']  = market\n",
    "        temp['run'] = scenario + '_' + year + '_' + subset\n",
    "\n",
    "        # rearrange the columns' order\n",
    "        cols = list(temp.columns)\n",
    "        cols = [cols[-1]] + cols[:-1]\n",
    "        temp = temp[cols]\n",
    "\n",
    "        # concatenate the temporary dataframe to the preceeding data\n",
    "        df = pd.concat([df, temp], sort=False)\n",
    "        return df"
   ]
  },
  {
   "cell_type": "markdown",
   "metadata": {},
   "source": [
    "##### 4B.2 Use function to read inputs"
   ]
  },
  {
   "cell_type": "code",
   "execution_count": null,
   "metadata": {},
   "outputs": [],
   "source": [
    "if filetype_input == 'gdx':\n",
    "\n",
    "    gdx_file_list = list()\n",
    "    scenarios = list()   \n",
    "    runs = list()\n",
    "\n",
    "    # directory to the input gdx file(s)\n",
    "    for market in markets:\n",
    "        gdx_file_list = gdx_file_list + glob.glob('./input/results/'+ market + '/*.gdx')\n",
    "\n",
    "        all_df = {gdx_file : pd.DataFrame() for gdx_file in gdx_file_list}\n",
    "    \n",
    "        for gdx_file in gdx_file_list:\n",
    "            all_df[gdx_file] = df_creation(gdx_file)\n",
    "           \n",
    "            if all_df[gdx_file]['run'][0] not in runs:\n",
    "                runs.append(all_df[gdx_file]['run'][0])\n",
    "\n",
    "            if all_df[gdx_file]['Scenario'][0] not in scenarios:\n",
    "                scenarios.append(all_df[gdx_file]['Scenario'][0])\n",
    "            \n",
    "    run_dict = dict(zip(gdx_file_list, runs) )\n",
    "    all_df = dict((run_dict[key], value) for (key, value) in all_df.items())\n",
    "\n",
    "    data = pd.DataFrame()\n",
    "    for run in runs:\n",
    "        data = data.append(all_df[run])\n",
    "    data = data.reset_index()"
   ]
  },
  {
   "cell_type": "markdown",
   "metadata": {},
   "source": [
    "# 5. Add timestamps"
   ]
  },
  {
   "cell_type": "code",
   "execution_count": null,
   "metadata": {
    "scrolled": true
   },
   "outputs": [],
   "source": [
    "#Timestamp addition\n",
    "full_timesteps = pd.read_csv('./input/full_timesteps_'+meaning_SSS_TTT+'.csv')\n",
    "full_timesteps.Key=full_timesteps['SSS']+full_timesteps['TTT']\n",
    "number_periods=len(full_timesteps.Key.unique())\n",
    "full_timesteps['timestamp']= pd.date_range(first_timestep, periods = number_periods, freq =size_timestep)\n",
    "dict_timestamp=dict(zip(full_timesteps.Key, full_timesteps.timestamp))\n",
    "data['timestamp']=data['SSS']+data['TTT']\n",
    "data['timestamp']=data['timestamp'].map(dict_timestamp)\n",
    "\n"
   ]
  },
  {
   "cell_type": "markdown",
   "metadata": {},
   "source": [
    "# 6. Create lists"
   ]
  },
  {
   "cell_type": "code",
   "execution_count": null,
   "metadata": {
    "scrolled": true
   },
   "outputs": [],
   "source": [
    "#Additional set declaration\n",
    "if 'C' in list(data.columns):\n",
    "    data = data.rename(columns={'C':'CCC'})\n",
    "ccc = list(data.CCC.unique())\n",
    "rrr = list(data.RRR.unique())\n",
    "elbaltype = list(data.EL_BAL_TYPE.unique())\n",
    "\n",
    "if 'Y' in list(data.columns):\n",
    "    data = data.rename(columns={'Y':'YYY'})\n",
    "yyy = list(data.YYY.unique())\n",
    "sss = list(full_timesteps.SSS.unique())\n",
    "ttt = list(full_timesteps.TTT.unique())\n"
   ]
  },
  {
   "cell_type": "markdown",
   "metadata": {},
   "source": [
    "# 7. Replace 'EPS'"
   ]
  },
  {
   "cell_type": "code",
   "execution_count": null,
   "metadata": {},
   "outputs": [],
   "source": [
    "#Replace possible \"Eps\" with 0\n",
    "if 'Value' in list(data.columns):   \n",
    "    data = data.rename(columns={'Value':'Val'})\n",
    "if 'Val' in list(data.columns):\n",
    "    data.Val=data.Val.replace('Eps', 0)\n",
    "    data.Val=pd.to_numeric(data.Val)\n"
   ]
  },
  {
   "cell_type": "markdown",
   "metadata": {},
   "source": [
    "# 8. Plot filter selection (user selection)"
   ]
  },
  {
   "cell_type": "code",
   "execution_count": null,
   "metadata": {},
   "outputs": [],
   "source": [
    "# Scenario to investigate\n",
    "#All scenarios\n",
    "scenario = scenarios\n",
    "# Or select scenarios by names \n",
    "#scenario_names = ['NoSectorCoupling']\n",
    "#scenario = scenario_names"
   ]
  },
  {
   "cell_type": "code",
   "execution_count": null,
   "metadata": {},
   "outputs": [],
   "source": [
    "# Market to investigate\n",
    "#All markets\n",
    "market = markets\n",
    "# Or select market by names \n",
    "#market_names = ['DayAhead']\n",
    "#market = market_names"
   ]
  },
  {
   "cell_type": "code",
   "execution_count": null,
   "metadata": {},
   "outputs": [],
   "source": [
    "# Regions to investigate\n",
    "#All regions\n",
    "r = rrr\n",
    "# Or select regions by names \n",
    "#region_names = ['DK1']\n",
    "#r = region_names"
   ]
  },
  {
   "cell_type": "code",
   "execution_count": null,
   "metadata": {},
   "outputs": [],
   "source": [
    "# Years to investigate\n",
    "#All years\n",
    "y = yyy\n",
    "# Or select yyy by names \n",
    "#year_names = ['2045']\n",
    "#y = year_names"
   ]
  },
  {
   "cell_type": "code",
   "execution_count": null,
   "metadata": {},
   "outputs": [],
   "source": [
    "# Seasons to investigate\n",
    "#All seasons\n",
    "s = sss\n",
    "# Or select seasons by names \n",
    "#season_names = ['S001', 'S002', 'S003', 'S004', 'S005', 'S006', 'S007']\n",
    "#s = season_names"
   ]
  },
  {
   "cell_type": "code",
   "execution_count": null,
   "metadata": {},
   "outputs": [],
   "source": [
    "# Terms to investigate\n",
    "#All terms\n",
    "t = ttt\n",
    "# Or select terms by names \n",
    "# term_names = ['T001', 'S007', 'S020', 'S024', 'S028', 'S038', 'S042', 'S043']\n",
    "# t = term_names"
   ]
  },
  {
   "cell_type": "code",
   "execution_count": null,
   "metadata": {},
   "outputs": [],
   "source": [
    "data_plot=data[(data.SSS.isin(s)) & (data.TTT.isin(t)) & (data.YYY.isin(y)) & (data.RRR.isin(r)) \n",
    "               & (data.Scenario.isin(scenario)) & (data.Market.isin(market))]"
   ]
  },
  {
   "cell_type": "markdown",
   "metadata": {},
   "source": [
    "# 9. Prepare plotting dataframe"
   ]
  },
  {
   "cell_type": "code",
   "execution_count": null,
   "metadata": {},
   "outputs": [],
   "source": [
    "table = pd.pivot_table(data_plot, values='Val', index=['Scenario','YYY','Market','timestamp'],\n",
    "...                     columns=['EL_BAL_TYPE'], aggfunc=np.sum, fill_value=0).reset_index()"
   ]
  },
  {
   "cell_type": "code",
   "execution_count": null,
   "metadata": {},
   "outputs": [],
   "source": [
    "table_names=list(table.columns.values)"
   ]
  },
  {
   "cell_type": "code",
   "execution_count": null,
   "metadata": {},
   "outputs": [],
   "source": [
    "table.timestamp=table.timestamp.astype('datetime64[ns]')\n",
    "table.sort_values(by='timestamp',inplace=True)"
   ]
  },
  {
   "cell_type": "markdown",
   "metadata": {},
   "source": [
    "# 10. Technologies / categories selection"
   ]
  },
  {
   "cell_type": "code",
   "execution_count": null,
   "metadata": {},
   "outputs": [],
   "source": [
    "##Combining columns (user specification)\n",
    "#CHP\n",
    "if 'CHP-EXTRACTION' not in table_names:\n",
    "    table['CHP-EXTRACTION']=0 \n",
    "if 'CHP-BACK-PRESSURE' not in table_names:\n",
    "    table['CHP-BACK-PRESSURE']=0 \n",
    "table['CHP']=table['CHP-BACK-PRESSURE']+table['CHP-EXTRACTION']\n",
    "del table['CHP-BACK-PRESSURE']\n",
    "del table['CHP-EXTRACTION'] \n",
    "\n",
    "#WIND\n",
    "if 'WIND-OFF' not in table_names:\n",
    "    table['WIND-OFF']=0 \n",
    "if 'WIND-ON' not in table_names:\n",
    "    table['WIND-ON']=0 \n",
    "table['WIND']=table['WIND-OFF']+table['WIND-ON']\n",
    "del table['WIND-ON']\n",
    "del table['WIND-OFF'] \n",
    "\n",
    "#STORAGE PRODUCTION\n",
    "if 'INTRA-STO' not in table_names:\n",
    "    table['INTRA-STO']=0 \n",
    "if 'INTER-STO' not in table_names:\n",
    "    table['INTER-STO']=0 \n",
    "table['EL-STO']=table['INTRA-STO']+table['INTER-STO']\n",
    "del table['INTER-STO']\n",
    "del table['INTRA-STO']\n",
    "\n",
    "#STORAGE DEMAND\n",
    "if 'DEMAND_INTERSTO' not in table_names:\n",
    "    table['DEMAND_INTERSTO']=0 \n",
    "if 'DEMAND_INTRA' not in table_names:\n",
    "    table['DEMAND_INTRASTO']=0 \n",
    "table['DEMAND_STO']=table['DEMAND_INTERSTO']+table['DEMAND_INTRASTO']\n",
    "del table['DEMAND_INTERSTO']\n",
    "del table['DEMAND_INTRASTO']\n",
    "\n",
    "#INFLEX DEMAND\n",
    "#if 'DEMAND_EV' not in table_names:\n",
    "#    table['DEMAND_EV']=0 \n",
    "#if 'DEMAND_EXO' not in table_names:\n",
    "#    table['DEMAND_EXO']=0 \n",
    "#table['DEMAND_INFLEX']=table['DEMAND_EV']+table['DEMAND_EXO']\n",
    "#del table['DEMAND_EV']\n",
    "#del table['DEMAND_EXO']\n",
    "\n",
    "table_names=list(table.columns.values)"
   ]
  },
  {
   "cell_type": "code",
   "execution_count": null,
   "metadata": {},
   "outputs": [],
   "source": [
    "all_pro=['CHP-BACK-PRESSURE', 'CHP-EXTRACTION', 'HYDRO-RESERVOIRS', 'HYDRO-RUN-OF-RIVER','HYDRO-WAVE','FUELCELL',\n",
    "       'WIND-ON','WIND-OFF', 'CONDENSING', 'SOLAR-PV','INTRA-STO', 'INTER-STO','WIND','EL-STO','CHP']\n",
    "prod_list=list(set(table_names).intersection(all_pro))\n",
    "all_dem=['DEMAND_EXO','DEMAND_P2H','DEMAND_EV','DEMAND_INTERSTO','DEMAND_INTRASTO','DEMAND_STO','DEMAND_INFLEX', 'DEMAND_OTHERTRANS',\n",
    "        'DEMAND_DISTLOSSES','DEMAND_CCS','DEMAND_P2G']\n",
    "dem_list=list(set(table_names).intersection(all_dem))"
   ]
  },
  {
   "cell_type": "code",
   "execution_count": null,
   "metadata": {},
   "outputs": [],
   "source": [
    "x=np.array(table.timestamp)"
   ]
  },
  {
   "cell_type": "code",
   "execution_count": null,
   "metadata": {},
   "outputs": [],
   "source": [
    "title_subplots=[]\n",
    "name_subplots=[]\n",
    "for mark in market:\n",
    "    for sce in scenarios:\n",
    "        for year in y:\n",
    "            title_subplots.append(mark + ' ' + sce + ' ' + str(year))\n",
    "            name_subplots.append(mark + sce + str(year))"
   ]
  },
  {
   "cell_type": "code",
   "execution_count": null,
   "metadata": {},
   "outputs": [],
   "source": [
    "plot_spec=[]\n",
    "for mark in market:\n",
    "    for sce in scenarios:\n",
    "        for year in y:\n",
    "            plot_spec.append([dict({\"secondary_y\": True})])"
   ]
  },
  {
   "cell_type": "markdown",
   "metadata": {},
   "source": [
    "# Plotting"
   ]
  },
  {
   "cell_type": "markdown",
   "metadata": {},
   "source": [
    "##### Add colours"
   ]
  },
  {
   "cell_type": "code",
   "execution_count": null,
   "metadata": {},
   "outputs": [],
   "source": [
    "#Production\n",
    "df_prodcolor = pd.read_excel('.\\input\\manual_colors_input.xlsx', sheet_name = 'Production')\n",
    "df_prodcolor = df_prodcolor.dropna(axis=0)\n",
    "df_prodcolor = df_prodcolor.loc[df_prodcolor['Value'].isin(prod_list),]\n",
    "for prod_type in prod_list:\n",
    "    if prod_type not in list(df_prodcolor.Value):\n",
    "        df_prodcolor = df_prodcolor.append(pd.DataFrame(data = {'Value' : [prod_type], 'Color': px.colors.qualitative.Plotly[prod_list.index(prod_type)]}))\n",
    "df_prodcolor['Value_cat'] = pd.Categorical(df_prodcolor['Value'], categories = prod_list, ordered = True )\n",
    "df_prodcolor = df_prodcolor.sort_values('Value_cat')\n",
    "del df_prodcolor['Value_cat']\n",
    "prodcolors = list(df_prodcolor.Color)\n",
    "\n",
    "#Demand\n",
    "df_demcolor = pd.read_excel('.\\input\\manual_colors_input.xlsx', sheet_name = 'Demand')\n",
    "df_demcolor = df_demcolor.dropna(axis = 0)\n",
    "df_demcolor = df_demcolor.loc[df_demcolor['Value'].isin(dem_list), ]\n",
    "for dem_type in dem_list:\n",
    "    if dem_type not in list(df_demcolor.Value):\n",
    "        df_demcolor = df_demcolor.append(pd.DataFrame(data = {'Value': [dem_type],'Color': px.colors.qualitative.Plotly[dem_list.index(dem_type)]}))\n",
    "df_demcolor['Value_cat'] = pd.Categorical(df_demcolor['Value'], categories = dem_list, ordered = True )\n",
    "df_demcolor = df_demcolor.sort_values('Value_cat')\n",
    "del df_demcolor['Value_cat']\n",
    "demcolors = list(df_demcolor.Color)\n",
    "\n",
    "\n",
    "#Price\n",
    "price_dict = pd.read_excel('.\\input\\manual_colors_input.xlsx', sheet_name = 'Price')\n",
    "price_dict = dict(zip(list(price_dict.Value), list(price_dict.Color)))\n",
    "if len(price_dict) != 1:\n",
    "    price_dict = dict([('Price','pink')])\n"
   ]
  },
  {
   "cell_type": "markdown",
   "metadata": {},
   "source": [
    "######  Plot A: Electricity balance"
   ]
  },
  {
   "cell_type": "code",
   "execution_count": null,
   "metadata": {},
   "outputs": [],
   "source": [
    "figA = make_subplots(rows=len(scenario)*len(y)*len(market), cols=1,subplot_titles=title_subplots,specs=plot_spec, vertical_spacing = 0.05)\n",
    "    \n",
    "for mark in market:\n",
    "    for sce in scenario:\n",
    "        if scenario.index(sce)==0: #Only show legend for first occurrence\n",
    "            legend_condition = True \n",
    "        else: legend_condition = False\n",
    "        for year in y:\n",
    "            #Production\n",
    "            for i in prod_list:\n",
    "                figA.add_trace(go.Scatter(x=table.loc[(table['Scenario'] == sce) & (table['Market'] == mark) & (table['YYY'] == year)].timestamp, \n",
    "                                         y=table.loc[(table['Scenario'] == sce) & (table['Market'] == mark) & (table['YYY'] == year)][i],name=i,\n",
    "                                         mode = 'lines',\n",
    "                                         line =  dict(color = prodcolors[prod_list.index(i)]), \n",
    "                                         showlegend= legend_condition), \n",
    "                                row= name_subplots.index(mark+sce+str(year))+1, col=1)\n",
    "            #Demand    \n",
    "            for i in dem_list:\n",
    "                figA.add_trace(go.Scatter(x=table.loc[(table['Scenario'] == sce) & (table['Market'] == mark) & (table['YYY'] == year)].timestamp, \n",
    "                                         y=table.loc[(table['Scenario'] == sce) & (table['Market'] == mark) & (table['YYY'] == year)][i],name=i,\n",
    "                                         mode = 'lines',\n",
    "                                         line =  dict(color = demcolors[dem_list.index(i)]), \n",
    "                                         showlegend= legend_condition), \n",
    "                                row = name_subplots.index(mark+sce+str(year))+1, col=1)\n",
    "\n",
    "figA.add_trace(\n",
    "go.Scatter(x=table.loc[(table['Scenario'] == sce) & (table['Market'] == mark) & (table['YYY'] == year)].timestamp, \n",
    "           y=table.loc[(table['Scenario'] == sce) & (table['Market'] == mark) & (table['YYY'] == year)]['PRICE'], \n",
    "           name=\"Price\", line = dict(color = price_dict['Price'])),\n",
    "secondary_y=True,row=name_subplots.index(mark+sce+str(year))+1, col=1)  \n",
    "\n",
    "#Layout updates\n",
    "figA.update_layout(title=\"Electricity balance\") \n",
    "figA.update_yaxes(title_text=\"Electricity (MWh/h)\", secondary_y=False)\n",
    "figA.update_yaxes(title_text=\"Price (€/MWh)\", secondary_y=True)\n",
    "figA.update_layout(legend_orientation=\"h\",width=1000,height=1500)\n",
    "figA.show()\n",
    "\n"
   ]
  },
  {
   "cell_type": "markdown",
   "metadata": {},
   "source": [
    "###### Plot B: Electricity production"
   ]
  },
  {
   "cell_type": "code",
   "execution_count": null,
   "metadata": {},
   "outputs": [],
   "source": [
    "figB = make_subplots(rows=len(scenario)*len(y)*len(market), cols=1,subplot_titles=title_subplots, vertical_spacing = 0.05)\n",
    "for mark in market:\n",
    "    for sce in scenario:\n",
    "        if scenario.index(sce)==0: #Only show legend for first occurrence\n",
    "            legend_condition = True \n",
    "        else: legend_condition = False\n",
    "        for year in y:\n",
    "            #Production\n",
    "            for i in prod_list:\n",
    "                figB.add_trace(go.Scatter(x=table.loc[(table['Scenario'] == sce) & (table['Market'] == mark) & (table['YYY'] == year)].timestamp, \n",
    "                                         y=table.loc[(table['Scenario'] == sce) & (table['Market'] == mark) & (table['YYY'] == year)][i],name=i,\n",
    "                                         mode = 'lines',\n",
    "                                         line =  dict(color = prodcolors[prod_list.index(i)]), \n",
    "                                         showlegend= legend_condition), \n",
    "                                row= name_subplots.index(mark+sce+str(year))+1, col=1)\n",
    "\n",
    "\n",
    "                 \n",
    "figB.update_layout(\n",
    "    title=\"Electricity production\",\n",
    ")  \n",
    "figB.update_yaxes(title_text=\"Energy (MWh/h)\", secondary_y=False)\n",
    "figB.update_layout(legend_orientation=\"h\",width=1000,height=1500)\n",
    "figB.show()\n"
   ]
  },
  {
   "cell_type": "markdown",
   "metadata": {},
   "source": [
    "###### Plot C: Electricity demand"
   ]
  },
  {
   "cell_type": "code",
   "execution_count": null,
   "metadata": {},
   "outputs": [],
   "source": [
    "figC = make_subplots(rows=len(scenario)*len(y)*len(market), cols=1,subplot_titles=title_subplots, vertical_spacing = 0.05)\n",
    "for mark in market:\n",
    "    for sce in scenario:\n",
    "        if scenario.index(sce)==0: #Only show legend for first occurrence\n",
    "            legend_condition = True \n",
    "        else: legend_condition = False\n",
    "        for year in y:\n",
    "            #Demand    \n",
    "            for i in dem_list:\n",
    "                figC.add_trace(go.Scatter(x=table.loc[(table['Scenario'] == sce) & (table['Market'] == mark) & (table['YYY'] == year)].timestamp, \n",
    "                                         y=table.loc[(table['Scenario'] == sce) & (table['Market'] == mark) & (table['YYY'] == year)][i],name=i,\n",
    "                                         mode = 'lines',\n",
    "                                         line =  dict(color = demcolors[dem_list.index(i)]), \n",
    "                                         showlegend= legend_condition), \n",
    "                                row = name_subplots.index(mark+sce+str(year))+1, col=1)\n",
    "\n",
    "\n",
    "\n",
    "\n",
    "figC.update_layout(title=\"Electricity demand\",)\n",
    "figC.update_yaxes(title_text=\"Energy (MWh/h)\", secondary_y=False)\n",
    "figC.update_layout(legend_orientation=\"h\",width=1000,height=1500)\n",
    "figC.show()"
   ]
  },
  {
   "cell_type": "code",
   "execution_count": null,
   "metadata": {},
   "outputs": [],
   "source": [
    "#Not dynamic plot\n",
    "\n",
    "#pal=sns.color_palette(\"Set2\")\n",
    "#plt.figure(figsize=(21,7))\n",
    "#plt.stackplot(x,prod, labels=pro_label,colors=pal)\n",
    "#plt.legend(loc='lower left',bbox_to_anchor=(0.05, -0.35), fancybox=True, shadow=True, ncol=6,fontsize=12)\n",
    "#plt.title('Energy balance',fontsize=16)\n",
    "#plt.ylabel('Energy (MWh/h)',fontsize=16)\n",
    "#plt.xticks(rotation=90,fontsize=14)\n",
    "#plt.yticks(fontsize=14)\n",
    "#for i in dem_list:\n",
    "#    plt.plot(x,table[i])\n",
    "#plt.legend(loc='lower left',bbox_to_anchor=(0.05, -0.35),fancybox=True, shadow=True, ncol=6,fontsize=12)\n",
    "#plt.twinx()\n",
    "#plt.plot(x,table['PRICE'], ':k')\n",
    "#plt.ylabel('Price (€/MWh)',fontsize=16)\n",
    "#plt.yticks(fontsize=14)\n",
    "#plt.legend(loc='lower right',bbox_to_anchor=(0.95, -0.35),fancybox=True, shadow=True, fontsize=12)\n",
    "#plt.margins(x=0)\n",
    "#plt.savefig('Balance.png', bbox_inches='tight', dpi=1000)\n",
    "#plt.show()"
   ]
  },
  {
   "cell_type": "markdown",
   "metadata": {},
   "source": [
    "# X - Export"
   ]
  },
  {
   "cell_type": "markdown",
   "metadata": {},
   "source": [
    "##### X.1 - Make output directories\n"
   ]
  },
  {
   "cell_type": "code",
   "execution_count": null,
   "metadata": {},
   "outputs": [],
   "source": [
    "# Make output folder\n",
    "if not os.path.isdir('output'):\n",
    "    os.makedirs('output')"
   ]
  },
  {
   "cell_type": "code",
   "execution_count": null,
   "metadata": {},
   "outputs": [],
   "source": [
    "# Make output folder\n",
    "if not os.path.isdir('output/' + output):\n",
    "    os.makedirs('output/' + output)"
   ]
  },
  {
   "cell_type": "markdown",
   "metadata": {},
   "source": [
    "##### X.2 - Create HTML outputs"
   ]
  },
  {
   "cell_type": "code",
   "execution_count": null,
   "metadata": {},
   "outputs": [],
   "source": [
    "figA.write_html('.\\output/' + output + '//ElectricityBalance_'+str(scenario)[2:-2] + '_' + str(year)+'.html')\n",
    "figB.write_html('.\\output/' + output + '//ElectricityProduction_'+str(scenario)[2:-2] + '_' + str(year)+'.html')\n",
    "figC.write_html('.\\output/' + output + '//ElectricityDemand_'+str(scenario)[2:-2] + '_' + str(year)+'.html')\n"
   ]
  }
 ],
 "metadata": {
  "kernelspec": {
   "display_name": "Python 3",
   "language": "python",
   "name": "python3"
  },
  "language_info": {
   "codemirror_mode": {
    "name": "ipython",
    "version": 3
   },
   "file_extension": ".py",
   "mimetype": "text/x-python",
   "name": "python",
   "nbconvert_exporter": "python",
   "pygments_lexer": "ipython3",
   "version": "3.8.3"
  }
 },
 "nbformat": 4,
 "nbformat_minor": 4
}
